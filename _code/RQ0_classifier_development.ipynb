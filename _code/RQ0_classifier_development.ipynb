{
 "cells": [
  {
   "cell_type": "code",
   "execution_count": null,
   "id": "e57644d4-3a5b-4652-b9e5-3ab41a6c9cba",
   "metadata": {},
   "outputs": [],
   "source": [
    "# python version = 3.11.7\n",
    "!pip install \"ray[tune]==2.9.1\"\n",
    "!pip install transformers"
   ]
  },
  {
   "cell_type": "code",
   "execution_count": null,
   "id": "7ffa42ac-b441-48d1-8e7d-c7f5d833865c",
   "metadata": {
    "tags": []
   },
   "outputs": [],
   "source": [
    "import os\n",
    "import pandas as pd\n",
    "\n",
    "new_path = os.path.split(os.getcwd())[0]\n",
    "\n",
    "from sklearn.metrics import cohen_kappa_score\n",
    "\n",
    "import numpy as np\n",
    "from transformers import AutoTokenizer, AutoModelForSequenceClassification, TextClassificationPipeline, TrainingArguments, Trainer\n",
    "from datasets import Dataset\n",
    "import evaluate\n",
    "import ray\n",
    "from ray import tune\n",
    "from ray.tune import CLIReporter, ProgressReporter\n",
    "\n",
    "import matplotlib.pyplot as plt\n",
    "from sklearn.metrics import accuracy_score, confusion_matrix, roc_auc_score, roc_curve"
   ]
  },
  {
   "cell_type": "markdown",
   "id": "62182be8-2411-4ad2-bcd7-ca430fc6555e",
   "metadata": {},
   "source": [
    "### training and testing datasets"
   ]
  },
  {
   "cell_type": "markdown",
   "id": "27e9a423-8672-418b-a7a0-792d61e42305",
   "metadata": {},
   "source": [
    "#### sample data from bot_all for manual annotation of "
   ]
  },
  {
   "cell_type": "code",
   "execution_count": null,
   "id": "70ed3b2e-cf8b-4528-82a2-c76392a95bbc",
   "metadata": {
    "tags": []
   },
   "outputs": [],
   "source": [
    "bot_all = pd.read_pickle(os.path.join(new_path,'_data','bot_all.pkl'))"
   ]
  },
  {
   "cell_type": "code",
   "execution_count": null,
   "id": "2973cb6c-271d-4ec2-bab2-786049247ac4",
   "metadata": {
    "tags": []
   },
   "outputs": [],
   "source": [
    "pd_train = bot_all.sample(2000, random_state=1)\n",
    "pd_train = pd_train[['t2_id', 't2_text_processed']]\n",
    "pd_train.columns = ['ID', 'Text']\n",
    "pd_train.loc[:, 'Label'] = ''\n",
    "pd_train = pd_train.drop_duplicates('Text')\n",
    "pd_train = pd_train.reset_index(drop=True)\n",
    "\n",
    "pd_train.to_pickle(os.path.join(new_path,'_data','_model_development','sample_train.pkl'))"
   ]
  },
  {
   "cell_type": "code",
   "execution_count": null,
   "id": "b0bc6f23-b23e-4f73-a5fd-ddaeb967f7b3",
   "metadata": {
    "tags": []
   },
   "outputs": [],
   "source": [
    "pd_test = bot_all.sample(200, random_state=3)\n",
    "pd_test = pd_test[['t2_id','t2_text_processed']]\n",
    "pd_test.columns = ['ID','Text']\n",
    "\n",
    "pd_test = pd_test.drop_duplicates('Text')\n",
    "pd_test = pd_test.merge(pd_train, on='Text', how='left')\n",
    "pd_test = pd_test[pd_test['ID_y'].isnull()]\n",
    "\n",
    "pd_test = pd_test.drop('ID_y', axis=1)\n",
    "pd_test.loc[:, 'Label'] = ''\n",
    "pd_test.columns = ['ID','Text', 'Label']\n",
    "pd_test = pd_test.reset_index(drop=True)\n",
    "\n",
    "pd_test.to_pickle(os.path.join(new_path,'_data','_model_development','sample_test.pkl'))"
   ]
  },
  {
   "cell_type": "markdown",
   "id": "be363e5c-1508-48a7-99b7-3ad322825e1c",
   "metadata": {},
   "source": [
    "#### import annotated data"
   ]
  },
  {
   "cell_type": "code",
   "execution_count": null,
   "id": "fc655355-290c-4b3b-8642-c9f1984f7036",
   "metadata": {
    "tags": []
   },
   "outputs": [],
   "source": [
    "pd_train = pd.read_csv(os.path.join(new_path,'_data','_model_development','annotations_train.csv'))\n",
    "pd_test = pd.read_csv(os.path.join(new_path,'_data','_model_development','annotations_test.csv'))"
   ]
  },
  {
   "cell_type": "code",
   "execution_count": null,
   "id": "3f356cab-4afc-4cee-b9ea-029c8e1e6516",
   "metadata": {
    "tags": []
   },
   "outputs": [],
   "source": [
    "len(pd_train), len(pd_test)"
   ]
  },
  {
   "cell_type": "markdown",
   "id": "45efffa0-ff08-49a2-9598-484d660d4490",
   "metadata": {},
   "source": [
    "#### import disaggregated test data for inter-annotator agreement"
   ]
  },
  {
   "cell_type": "code",
   "execution_count": null,
   "id": "5094d76c-04bd-4716-ad06-a569f8222f2b",
   "metadata": {
    "tags": []
   },
   "outputs": [],
   "source": [
    "pd_test_dis = pd.read_csv(os.path.join(new_path,'_data','_model_development','disaggregated_test.csv'))"
   ]
  },
  {
   "cell_type": "code",
   "execution_count": null,
   "id": "1f0ce2c0-4c60-4e80-a8a2-7229112449f2",
   "metadata": {
    "tags": []
   },
   "outputs": [],
   "source": [
    "pd_test_dis['bin_1'] = [l if l=='accusation' else 'no_accusation' for l in pd_test_dis['Annotator_1']]\n",
    "pd_test_dis['bin_2'] = [l if l=='accusation' else 'no_accusation' for l in pd_test_dis['Annotator_2']]"
   ]
  },
  {
   "cell_type": "code",
   "execution_count": null,
   "id": "07ef3667-4823-4175-8a5a-e32fc33bdb45",
   "metadata": {
    "tags": []
   },
   "outputs": [],
   "source": [
    "cohen_kappa_score(pd_test_dis['bin_1'], pd_test_dis['bin_2'])"
   ]
  },
  {
   "cell_type": "markdown",
   "id": "870574b8-3590-417d-8b4b-cb3f949329c3",
   "metadata": {},
   "source": [
    "### train accusation model"
   ]
  },
  {
   "cell_type": "markdown",
   "id": "3cad28e0-2f2c-4ba4-b669-18bd6e331786",
   "metadata": {},
   "source": [
    "setup hyperparameter infrastructure "
   ]
  },
  {
   "cell_type": "code",
   "execution_count": null,
   "id": "97328fd9-e85c-48b5-873a-eda263d0e880",
   "metadata": {},
   "outputs": [],
   "source": [
    "ray.init(log_to_driver=False, _temp_dir=os.path.join(new_path,'ray_tmp'), num_gpus=1)\n",
    "\n",
    "def ray_hp_space(trial):\n",
    "    return {\n",
    "        'learning_rate': tune.loguniform(1e-6, 1e-4),\n",
    "        'per_device_train_batch_size': tune.choice([8,16,24]),\n",
    "    }\n",
    "\n",
    "reporter = CLIReporter(parameter_columns={\"weight_decay\": \"w_decay\", \"learning_rate\": \"lr\",\n",
    "                                          \"per_device_train_batch_size\": \"train_bs/gpu\", \"num_train_epochs\": \"num_epochs\"},\n",
    "                       metric_columns=[\"eval_acc\", \"eval_loss\", \"epoch\", \"training_iteration\"])\n",
    "\n",
    "class CustomReporter(ProgressReporter):\n",
    "    def should_report(self, trials, done=False):\n",
    "        return True\n",
    "    def report(self, trials, *sys_info):\n",
    "        return\n",
    "\n",
    "### transformers setup\n",
    "modelname = 'vinai/bertweet-base'\n",
    "tokenizer = AutoTokenizer.from_pretrained(os.path.join(new_path,'_model','tokenizer'), model_max_length=512)\n",
    "\n",
    "def tokenize_function(examples):\n",
    "    return tokenizer(examples['text'], padding='max_length', truncation=True)\n",
    "\n",
    "def model_init():\n",
    "    return AutoModelForSequenceClassification.from_pretrained(modelname, num_labels=2)\n",
    "\n",
    "def compute_metrics(eval_pred):\n",
    "    logits, labels = eval_pred\n",
    "    predictions = np.argmax(logits, axis=-1)\n",
    "    return metric.compute(predictions=predictions, references=labels)\n",
    "metric = evaluate.combine(['accuracy', 'f1', 'precision', 'recall'])"
   ]
  },
  {
   "cell_type": "markdown",
   "id": "e6e27794-e1b5-4939-92e0-247087e66686",
   "metadata": {},
   "source": [
    "prepare data for training and validation"
   ]
  },
  {
   "cell_type": "code",
   "execution_count": null,
   "id": "244e2b9b-b5c4-4de8-9520-f3f8d0bf50d9",
   "metadata": {},
   "outputs": [],
   "source": [
    "data = pd.read_csv(os.path.join(new_path,'_data','_model_development','annotations_train.csv'))\n",
    "data['label'] = data['label'].replace(2,0) # replace \"unclear\" with \"no accusation\""
   ]
  },
  {
   "cell_type": "code",
   "execution_count": null,
   "id": "c926f6bf-1470-4ea3-af69-4fc4f7161dc4",
   "metadata": {},
   "outputs": [],
   "source": [
    "dataset = Dataset.from_pandas(data)\n",
    "tokenized_dataset = dataset.map(tokenize_function, batched=True)\n",
    "tokenized_split = tokenized_dataset.train_test_split(test_size=0.1, seed=34)"
   ]
  },
  {
   "cell_type": "markdown",
   "id": "c8d79aae-a37b-4108-b2d2-e42f316c2353",
   "metadata": {},
   "source": [
    "setup training parameters"
   ]
  },
  {
   "cell_type": "code",
   "execution_count": null,
   "id": "d94877df-d7a1-4a66-95bc-a17ba852f238",
   "metadata": {},
   "outputs": [],
   "source": [
    "training_args = TrainingArguments(\n",
    "    output_dir=os.path.join(new_path,'_model','accusation_classification_model_optimization'),\n",
    "    evaluation_strategy='epoch',\n",
    "    learning_rate=2e-5,\n",
    "    per_device_train_batch_size=16,\n",
    "    per_device_eval_batch_size=16,\n",
    "    num_train_epochs=4,\n",
    "    load_best_model_at_end=True,\n",
    "    weight_decay=0.01,\n",
    "    save_strategy='epoch',\n",
    "    do_predict=True,\n",
    "    logging_steps=2,\n",
    "    logging_dir='logs',\n",
    "    skip_memory_metrics=True,\n",
    "    report_to='none',\n",
    ")"
   ]
  },
  {
   "cell_type": "code",
   "execution_count": null,
   "id": "955d7560-a6ed-4d5c-a007-db9bf6faaa23",
   "metadata": {},
   "outputs": [],
   "source": [
    "trainer = Trainer(\n",
    "    args=training_args,\n",
    "    train_dataset=tokenized_split['train'],\n",
    "    eval_dataset=tokenized_split['test'],\n",
    "    compute_metrics=compute_metrics,\n",
    "    model_init=model_init\n",
    ")"
   ]
  },
  {
   "cell_type": "markdown",
   "id": "2a41661e-45cd-4273-907d-c7c94e6c6482",
   "metadata": {},
   "source": [
    "run training"
   ]
  },
  {
   "cell_type": "code",
   "execution_count": null,
   "id": "6cbc0d07-939a-46fb-96ee-b2a61aaf3dbd",
   "metadata": {},
   "outputs": [],
   "source": [
    "results = trainer.hyperparameter_search(\n",
    "    direction='maximize', \n",
    "    backend='ray', \n",
    "    n_trials=2,\n",
    "    hp_space=ray_hp_space,\n",
    "    progress_reporter=CustomReporter(),\n",
    ")"
   ]
  },
  {
   "cell_type": "markdown",
   "id": "f1b7f079-3524-4b33-9516-3702f0ef0dea",
   "metadata": {},
   "source": [
    "evaluate training"
   ]
  },
  {
   "cell_type": "code",
   "execution_count": null,
   "id": "a907ab61-b902-4858-876f-fb596bf3b609",
   "metadata": {},
   "outputs": [],
   "source": [
    "best_trial = results.run_summary.get_best_trial(metric='eval_loss', mode='min').last_result # best trial\n",
    "best_trial_metrics = results.run_summary.trial_dataframes[best_trial['trial_id']]"
   ]
  },
  {
   "cell_type": "code",
   "execution_count": null,
   "id": "26116fde-9345-42a5-a6f1-713a2790572c",
   "metadata": {},
   "outputs": [],
   "source": [
    "best_trial_metrics.plot('training_iteration', 'eval_accuracy')\n",
    "best_trial_metrics.plot('training_iteration', 'eval_loss')"
   ]
  },
  {
   "cell_type": "markdown",
   "id": "2b07383c-4d71-4df9-ac6f-80bc769773fa",
   "metadata": {},
   "source": [
    "retrain model with best hyperparameter settings"
   ]
  },
  {
   "cell_type": "code",
   "execution_count": null,
   "id": "af862991-2cd3-4b5f-b7f2-9a6b64613cec",
   "metadata": {},
   "outputs": [],
   "source": [
    "for n, v in results.hyperparameters.items():\n",
    "    setattr(trainer.args, n, v)\n",
    "\n",
    "trainer.train()"
   ]
  },
  {
   "cell_type": "markdown",
   "id": "71ab89cd-e942-4abe-b07e-08354c27ff21",
   "metadata": {},
   "source": [
    "save final model"
   ]
  },
  {
   "cell_type": "code",
   "execution_count": null,
   "id": "42d350c8-a4bb-44fa-b260-ab404158cbf1",
   "metadata": {},
   "outputs": [],
   "source": [
    "trainer.save_model(os.path.join(new_path,'_model','accusation_classification_model'))"
   ]
  },
  {
   "cell_type": "markdown",
   "id": "78a4dcfd-5e23-4df0-9b44-0507007b417f",
   "metadata": {},
   "source": [
    "### evaluate accusation model"
   ]
  },
  {
   "cell_type": "markdown",
   "id": "698d052f-7a7e-478c-8fc4-900115d9d1bf",
   "metadata": {},
   "source": [
    "load final model"
   ]
  },
  {
   "cell_type": "code",
   "execution_count": 2,
   "id": "806603df-e03b-46a0-9ff2-2f3f93ef8982",
   "metadata": {
    "tags": []
   },
   "outputs": [
    {
     "name": "stderr",
     "output_type": "stream",
     "text": [
      "/opt/conda/lib/python3.11/site-packages/torch/_utils.py:831: UserWarning: TypedStorage is deprecated. It will be removed in the future and UntypedStorage will be the only storage class. This should only matter to you if you are using storages directly.  To access UntypedStorage directly, use tensor.untyped_storage() instead of tensor.storage()\n",
      "  return self.fget.__get__(instance, owner)()\n"
     ]
    }
   ],
   "source": [
    "model = AutoModelForSequenceClassification.from_pretrained(os.path.join(new_path,'_model','accusation_classification_model'))\n",
    "tokenizer = AutoTokenizer.from_pretrained(os.path.join(new_path,'_model','tokenizer'), model_max_length=512)\n",
    "pipe = TextClassificationPipeline(model=model, tokenizer=tokenizer, device='cuda:0')"
   ]
  },
  {
   "cell_type": "markdown",
   "id": "5af3ebfa-d44c-4f2d-b893-4d09aba0d1df",
   "metadata": {},
   "source": [
    "evaluation metrics"
   ]
  },
  {
   "cell_type": "code",
   "execution_count": 3,
   "id": "ce007b77-eb95-4fcf-a46c-3542d60a8301",
   "metadata": {
    "tags": []
   },
   "outputs": [],
   "source": [
    "f1_metric = evaluate.load(\"f1\")\n",
    "recall_metric = evaluate.load(\"recall\")\n",
    "precision_metric = evaluate.load(\"precision\")\n",
    "accuracy_metric = evaluate.load(\"accuracy\")"
   ]
  },
  {
   "cell_type": "markdown",
   "id": "95f2b033-1701-4544-85c8-c789a1cd20bc",
   "metadata": {},
   "source": [
    "load held-out test set"
   ]
  },
  {
   "cell_type": "code",
   "execution_count": 4,
   "id": "c47fe9b3-3a80-4d71-9e34-f809ed1dbcb0",
   "metadata": {
    "tags": []
   },
   "outputs": [],
   "source": [
    "pd_test = pd.read_csv(os.path.join(new_path,'_data','_model_development','annotations_test.csv'))\n",
    "pd_test['label'] = pd_test['label'].replace(2,0) # replace \"unclear\" with \"no accusation\""
   ]
  },
  {
   "cell_type": "markdown",
   "id": "d86c7958-4ff3-4cd6-902b-4d187be20a5a",
   "metadata": {},
   "source": [
    "run model on test set"
   ]
  },
  {
   "cell_type": "code",
   "execution_count": 5,
   "id": "171a0ba2-7d64-4ee5-9c90-a070a383fa87",
   "metadata": {
    "tags": []
   },
   "outputs": [],
   "source": [
    "model_predictions = pipe(list(pd_test['text']), batch_size=256,**{'truncation':True,'max_length':128})\n",
    "pd_test['pred'] = [1 if x['label'] == 'LABEL_1' else 0 for x in model_predictions]\n",
    "pd_test['prob'] = [x['score'] if x['label'] == 'LABEL_1' else 1-x['score'] for x in model_predictions]"
   ]
  },
  {
   "cell_type": "markdown",
   "id": "7562fa01-1c44-45e9-be22-7d3cd1dd51ad",
   "metadata": {},
   "source": [
    "evaluate"
   ]
  },
  {
   "cell_type": "code",
   "execution_count": 6,
   "id": "65b8035e-731a-4d94-9b72-8a3528cda959",
   "metadata": {
    "tags": []
   },
   "outputs": [
    {
     "name": "stdout",
     "output_type": "stream",
     "text": [
      "{'f1': 0.9299363057324842, 'precision': 0.9358974358974359, 'recall': 0.9240506329113924, 'accuracy': 0.9430051813471503}\n"
     ]
    }
   ],
   "source": [
    "results = {}\n",
    "results.update(f1_metric.compute(predictions=pd_test['pred'], references=pd_test['label'], average='binary'))\n",
    "results.update(precision_metric.compute(predictions=pd_test['pred'], references=pd_test['label'], average='binary'))\n",
    "results.update(recall_metric.compute(predictions=pd_test['pred'], references=pd_test['label'], average='binary'))\n",
    "results.update(accuracy_metric.compute(predictions=pd_test['pred'], references=pd_test['label']))\n",
    "\n",
    "print(results)"
   ]
  },
  {
   "cell_type": "markdown",
   "id": "9aa9f4dc-2a80-4406-a6c2-c62e30853d53",
   "metadata": {},
   "source": [
    "check ROC"
   ]
  },
  {
   "cell_type": "code",
   "execution_count": 7,
   "id": "637770e4-80d6-4a89-a802-b1b5536434ec",
   "metadata": {
    "tags": []
   },
   "outputs": [],
   "source": [
    "def plot_roc_curve(true_y, y_prob):\n",
    "    \"\"\"\n",
    "    plots the roc curve based of the probabilities\n",
    "    \"\"\"\n",
    "\n",
    "    fpr, tpr, thresholds = roc_curve(true_y, y_prob)\n",
    "    plt.plot(fpr, tpr)\n",
    "    plt.xlabel('False Positive Rate')\n",
    "    plt.ylabel('True Positive Rate')"
   ]
  },
  {
   "cell_type": "code",
   "execution_count": 8,
   "id": "9fcdb4ea-ffbd-4ef9-9a91-4329d96b43b3",
   "metadata": {
    "tags": []
   },
   "outputs": [
    {
     "data": {
      "image/png": "[encoded data removed]",
      "text/plain": [
       "<Figure size 640x480 with 1 Axes>"
      ]
     },
     "metadata": {},
     "output_type": "display_data"
    }
   ],
   "source": [
    "plot_roc_curve(pd_test['label'], pd_test['prob'])\n",
    "plt.plot([0,1],[0,1],\".\",ls=\"--\")\n",
    "plt.show()"
   ]
  }
 ],
 "metadata": {
  "kernelspec": {
   "display_name": "Python 3 (ipykernel)",
   "language": "python",
   "name": "python3"
  },
  "language_info": {
   "codemirror_mode": {
    "name": "ipython",
    "version": 3
   },
   "file_extension": ".py",
   "mimetype": "text/x-python",
   "name": "python",
   "nbconvert_exporter": "python",
   "pygments_lexer": "ipython3",
   "version": "3.11.7"
  }
 },
 "nbformat": 4,
 "nbformat_minor": 5
}
