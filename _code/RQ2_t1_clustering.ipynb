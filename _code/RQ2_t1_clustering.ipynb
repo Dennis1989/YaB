{
 "cells": [
  {
   "cell_type": "code",
   "execution_count": null,
   "id": "7cf8cbd6-89b8-4b40-bb80-d04ec378391f",
   "metadata": {
    "tags": []
   },
   "outputs": [],
   "source": [
    "!pip install umap-learn==0.5.2"
   ]
  },
  {
   "cell_type": "code",
   "execution_count": null,
   "id": "63d121fb-dc82-49a0-a2c0-ca92c0d4ff0d",
   "metadata": {
    "tags": []
   },
   "outputs": [],
   "source": [
    "import os\n",
    "import pandas as pd\n",
    "\n",
    "new_path = os.path.split(os.getcwd())[0]\n",
    "\n",
    "import umap.umap_ as umap\n",
    "import textwrap as twp\n",
    "from sentence_transformers import SentenceTransformer, util\n",
    "from sklearn.feature_extraction.text import CountVectorizer\n",
    "import numpy as np\n",
    "import matplotlib.pyplot as plt"
   ]
  },
  {
   "cell_type": "markdown",
   "id": "331bd109-267b-4096-affb-04af26d148fa",
   "metadata": {},
   "source": [
    "load and prepare data"
   ]
  },
  {
   "cell_type": "code",
   "execution_count": 2,
   "id": "6edc8cdf-90c6-4fe8-8076-8d1ef239272d",
   "metadata": {
    "tags": []
   },
   "outputs": [],
   "source": [
    "bot_general = pd.read_pickle(os.path.join(new_path,'_data','bot_general.pkl'))"
   ]
  },
  {
   "cell_type": "code",
   "execution_count": 3,
   "id": "897b723e-475a-4dd9-86ec-f76b9ea9ea0a",
   "metadata": {
    "tags": []
   },
   "outputs": [],
   "source": [
    "bot_general['t1_year'] = pd.to_datetime(bot_general['t1_datetime']).dt.year\n",
    "bot_general = bot_general[bot_general['t1_year']==2021]\n",
    "bot_general = bot_general[~bot_general['t1_text_cleaned'].isnull()]\n",
    "bot_general = bot_general.drop_duplicates('t1_text_cleaned')\n",
    "bot_general.loc[:,'t1_text_cleaned'] = [t.lower() for t in bot_general['t1_text_cleaned']]\n",
    "bot_general = bot_general.reset_index(drop=True)"
   ]
  },
  {
   "cell_type": "code",
   "execution_count": 4,
   "id": "3f3df228-fc3b-4f99-a73c-a8e3ebc478d2",
   "metadata": {
    "tags": []
   },
   "outputs": [
    {
     "data": {
      "text/plain": [
       "763930"
      ]
     },
     "execution_count": 4,
     "metadata": {},
     "output_type": "execute_result"
    }
   ],
   "source": [
    "len(bot_general)"
   ]
  },
  {
   "cell_type": "markdown",
   "id": "ddff8c02-4983-4add-b5ff-645bd92d5d63",
   "metadata": {
    "tags": []
   },
   "source": [
    "embed t1 tweets"
   ]
  },
  {
   "cell_type": "code",
   "execution_count": 5,
   "id": "e7d1e4a9-2bfa-4b0e-8939-d5e55a43d577",
   "metadata": {
    "tags": []
   },
   "outputs": [],
   "source": [
    "model = SentenceTransformer('all-MiniLM-L6-v2', device='cuda:0')"
   ]
  },
  {
   "cell_type": "code",
   "execution_count": 6,
   "id": "4d55f699-2007-4e5d-90cc-5304eb01ca5b",
   "metadata": {
    "tags": []
   },
   "outputs": [
    {
     "data": {
      "application/vnd.jupyter.widget-view+json": {
       "model_id": "2774ea8911a2486f90640507763d38fd",
       "version_major": 2,
       "version_minor": 0
      },
      "text/plain": [
       "Batches:   0%|          | 0/11937 [00:00<?, ?it/s]"
      ]
     },
     "metadata": {},
     "output_type": "display_data"
    },
    {
     "name": "stdout",
     "output_type": "stream",
     "text": [
      "CPU times: user 1h 27min, sys: 6min 49s, total: 1h 33min 49s\n",
      "Wall time: 4min 42s\n"
     ]
    }
   ],
   "source": [
    "%time corpus_embeddings = model.encode(bot_general['t1_text_cleaned'], batch_size=64, show_progress_bar=True, convert_to_tensor=True)"
   ]
  },
  {
   "cell_type": "code",
   "execution_count": null,
   "id": "4e280527-86d1-42c4-8f30-4454e270abd1",
   "metadata": {},
   "outputs": [],
   "source": [
    "with open(os.path.join(new_path,'_model','embeddings_t1','embeddings_t1.pkl'), 'wb') as f:\n",
    "    pickle.dump(corpus_embeddings, f, protocol=pickle.HIGHEST_PROTOCOL)"
   ]
  },
  {
   "cell_type": "markdown",
   "id": "b34d1691-a45a-495d-87c8-d33bb566a0d4",
   "metadata": {},
   "source": [
    "clustering"
   ]
  },
  {
   "cell_type": "code",
   "execution_count": null,
   "id": "e5554caa-5cfb-4e75-8c13-4cbd729e54ac",
   "metadata": {},
   "outputs": [],
   "source": [
    "with open(os.path.join(new_path,'_model','embeddings_t1','embeddings_t1.pkl'), 'rb') as f:\n",
    "    corpus_embeddings = pickle.load(f)"
   ]
  },
  {
   "cell_type": "code",
   "execution_count": 7,
   "id": "9f3b56dd-81ad-42fa-80c4-c8931abc5a3b",
   "metadata": {
    "tags": []
   },
   "outputs": [
    {
     "name": "stdout",
     "output_type": "stream",
     "text": [
      "CPU times: user 2min 6s, sys: 285 ms, total: 2min 7s\n",
      "Wall time: 2min 7s\n"
     ]
    }
   ],
   "source": [
    "%time clusters = util.community_detection(corpus_embeddings, min_community_size=150, threshold=0.7, batch_size=1024)"
   ]
  },
  {
   "cell_type": "code",
   "execution_count": 8,
   "id": "81c1451e-78f7-4a85-8c2d-c9f9c60323e5",
   "metadata": {
    "tags": []
   },
   "outputs": [],
   "source": [
    "bot_general['cluster'] = None\n",
    "for i, cluster in enumerate(clusters):\n",
    "    for id_ in cluster:\n",
    "        bot_general.loc[id_,'cluster'] = i+1"
   ]
  },
  {
   "cell_type": "code",
   "execution_count": null,
   "id": "bd97e776-00e4-43fd-b4f9-10dfb64b2a7a",
   "metadata": {
    "tags": []
   },
   "outputs": [],
   "source": [
    "bot_general[['t1_id','cluster']].to_pickle(os.path.join(new_path,'_data','_cluster_t1','t1_id_cluster.pkl'))"
   ]
  },
  {
   "cell_type": "markdown",
   "id": "ce0bd13f-1787-477c-bcd2-3753ce6da58d",
   "metadata": {},
   "source": [
    "extract significant tokens per cluster"
   ]
  },
  {
   "cell_type": "code",
   "execution_count": 9,
   "id": "e84b154e-2936-4369-a528-5e34c7d8606a",
   "metadata": {
    "tags": []
   },
   "outputs": [],
   "source": [
    "def c_tf_idf(documents, m, ngram_range=(1, 1)):\n",
    "    count = CountVectorizer(ngram_range=ngram_range, stop_words=\"english\", token_pattern=r'[^\\s]+').fit(documents)\n",
    "    t = count.transform(documents).toarray()\n",
    "    w = t.sum(axis=1)\n",
    "    tf = np.divide(t.T, w)\n",
    "    sum_t = t.sum(axis=0)\n",
    "    idf = np.log(np.divide(m, sum_t)).reshape(-1, 1)\n",
    "    tf_idf = np.multiply(tf, idf)\n",
    "    return tf_idf, count\n",
    "\n",
    "def extract_top_n_words_per_topic(tf_idf, count, docs_per_topic, n=20):\n",
    "    words = count.get_feature_names_out()\n",
    "    labels = list(docs_per_topic.Topic)\n",
    "    tf_idf_transposed = tf_idf.T\n",
    "    indices = tf_idf_transposed.argsort()[:, -n:]\n",
    "    top_n_words = {label: [(words[j], tf_idf_transposed[i][j]) for j in indices[i]][::-1] for i, label in enumerate(labels)}\n",
    "    return top_n_words\n",
    "\n",
    "def extract_topic_sizes(df):\n",
    "    topic_sizes = (df.groupby(['Topic'])\n",
    "                     .Doc\n",
    "                     .count()\n",
    "                     .reset_index()\n",
    "                     .rename({\"Topic\": \"Topic\", \"Doc\": \"Size\"}, axis='columns')\n",
    "                     .sort_values(\"Size\", ascending=False))\n",
    "    return topic_sizes\n",
    "\n",
    "def create_representative_table(clusters, top_n_words):  \n",
    "    representative_table = pd.DataFrame({\"cluster\":[],\"text\":[]})\n",
    "    for i, cluster in enumerate(clusters):\n",
    "        for sentence_id in cluster[0:1]:\n",
    "                representative_table = pd.concat([representative_table,pd.DataFrame([\", \".join([x[0] for x in  top_n_words[i+1]][0:8])], columns=['text'])])\n",
    "    representative_table[\"cluster\"] = range(1,len(clusters)+1)\n",
    "    return representative_table"
   ]
  },
  {
   "cell_type": "code",
   "execution_count": 10,
   "id": "c292cb2e-c0ba-43ad-ad28-7fce17e8840a",
   "metadata": {
    "tags": []
   },
   "outputs": [],
   "source": [
    "docs_df = bot_general[~bot_general['cluster'].isnull()][['t1_text_cleaned','cluster']].rename(columns={'t1_text_cleaned': 'Doc', 'cluster': 'Topic'})\n",
    "docs_df['Doc_ID'] = range(len(docs_df))\n",
    "docs_per_topic = docs_df.groupby(['Topic'], as_index = False).agg({'Doc': ' '.join})\n",
    "  \n",
    "tf_idf, count = c_tf_idf(docs_per_topic.Doc.values, m=len(docs_df))"
   ]
  },
  {
   "cell_type": "code",
   "execution_count": 11,
   "id": "fa3a918c-5553-401f-8f0a-d0121958ad5b",
   "metadata": {
    "tags": []
   },
   "outputs": [],
   "source": [
    "top_n_words = extract_top_n_words_per_topic(tf_idf, count, docs_per_topic, n=20)\n",
    "topic_sizes = extract_topic_sizes(docs_df)"
   ]
  },
  {
   "cell_type": "markdown",
   "id": "0bab476b-edba-45e9-8e85-71ec14a059f9",
   "metadata": {},
   "source": [
    "visualize clustering in 2-dimensional space"
   ]
  },
  {
   "cell_type": "code",
   "execution_count": 12,
   "id": "f7db16e7-64a1-4a6d-aee4-7a7f9df80337",
   "metadata": {
    "tags": []
   },
   "outputs": [],
   "source": [
    "plt.rc('axes', unicode_minus=False)"
   ]
  },
  {
   "cell_type": "code",
   "execution_count": 13,
   "id": "da8f61ad-ab4d-4307-890b-3fbdfdf04f36",
   "metadata": {
    "tags": []
   },
   "outputs": [],
   "source": [
    "umap_data = umap.UMAP(n_neighbors=20, n_components=2, min_dist=0, metric='cosine').fit_transform(corpus_embeddings.cpu())\n",
    "result = pd.DataFrame(umap_data, columns=['x', 'y'])\n",
    "result['labels'] = bot_general['cluster']"
   ]
  },
  {
   "cell_type": "code",
   "execution_count": 14,
   "id": "a179a297-254d-4eaf-99d6-2ca7bd4c4323",
   "metadata": {
    "tags": []
   },
   "outputs": [],
   "source": [
    "cluster_words_df = create_representative_table(clusters, top_n_words)"
   ]
  },
  {
   "cell_type": "code",
   "execution_count": 15,
   "id": "1fcf385b-399e-4890-ad7d-438edcc173b7",
   "metadata": {
    "tags": []
   },
   "outputs": [
    {
     "data": {
      "image/png": "[encoded data removed]",
      "text/plain": [
       "<Figure size 1000x400 with 1 Axes>"
      ]
     },
     "metadata": {},
     "output_type": "display_data"
    }
   ],
   "source": [
    "fig, (ax1) = plt.subplots(figsize=(10,4))\n",
    "\n",
    "outliers = result.loc[result.labels == -1, :]\n",
    "clustered = result.loc[result.labels != -1, :]\n",
    "clustered = result.loc[(result.labels != 1) & (result.labels != 88)  , :]\n",
    "\n",
    "ax1.scatter(outliers.x, outliers.y, color='#BDBDBD', s=0.05)\n",
    "ax1.scatter(clustered.x, clustered.y, c=clustered.labels, s=35, cmap='tab20',marker=\"+\")\n",
    "ax1.axis('off')\n",
    "\n",
    "for i in range(1,len(clusters)+1):\n",
    "    x = np.median(result[result[\"labels\"]==i][\"x\"])\n",
    "    y = np.median(result[result[\"labels\"]==i][\"y\"])     \n",
    "\n",
    "plt.tight_layout()\n",
    "# plt.savefig(os.path.join(new_path,'_results','fig4_t1_clustering.pdf'))\n",
    "plt.show()"
   ]
  }
 ],
 "metadata": {
  "kernelspec": {
   "display_name": "Python 3 (ipykernel)",
   "language": "python",
   "name": "python3"
  },
  "language_info": {
   "codemirror_mode": {
    "name": "ipython",
    "version": 3
   },
   "file_extension": ".py",
   "mimetype": "text/x-python",
   "name": "python",
   "nbconvert_exporter": "python",
   "pygments_lexer": "ipython3",
   "version": "3.11.7"
  }
 },
 "nbformat": 4,
 "nbformat_minor": 5
}
