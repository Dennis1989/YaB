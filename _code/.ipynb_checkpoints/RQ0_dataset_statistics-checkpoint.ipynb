{
 "cells": [
  {
   "cell_type": "code",
   "execution_count": 1,
   "id": "64c3a8f5-f73c-49d2-aed7-4da6168e3746",
   "metadata": {
    "tags": []
   },
   "outputs": [],
   "source": [
    "import os\n",
    "import pandas as pd\n",
    "\n",
    "new_path = os.path.split(os.getcwd())[0]\n",
    "\n",
    "import matplotlib.pyplot as plt"
   ]
  },
  {
   "cell_type": "markdown",
   "id": "afc7de9d-258b-4c5e-b5a9-cd68ba892bfa",
   "metadata": {},
   "source": [
    "### bot_direct"
   ]
  },
  {
   "cell_type": "code",
   "execution_count": 2,
   "id": "46603167-ff35-4e7c-8a8c-d573a0032a7a",
   "metadata": {
    "tags": []
   },
   "outputs": [],
   "source": [
    "bot_direct = pd.read_pickle(os.path.join(new_path,'_data','bot_direct.pkl'))"
   ]
  },
  {
   "cell_type": "code",
   "execution_count": 3,
   "id": "ba99461c-b10a-461c-b0bf-b69a22d7bb61",
   "metadata": {
    "tags": []
   },
   "outputs": [],
   "source": [
    "datetime_t2 = pd.to_datetime(bot_direct['t2_datetime'])\n",
    "bot_direct['year'] = datetime_t2.dt.year"
   ]
  },
  {
   "cell_type": "code",
   "execution_count": 4,
   "id": "483b8876-f719-4ea3-9550-f24653243fe2",
   "metadata": {
    "tags": []
   },
   "outputs": [
    {
     "name": "stdout",
     "output_type": "stream",
     "text": [
      "n total: 309107\n",
      "complete: 193623\n",
      "share complete in total: 0.6263947435677614\n",
      "incomplete: 115484\n",
      "tweet_o not available: 115464\n",
      "user_o not available: 96289\n"
     ]
    }
   ],
   "source": [
    "print(f\"n total: {len(bot_direct)}\")\n",
    "print(f\"complete: {len(bot_direct[(~bot_direct['t1_text_cleaned'].isnull())&(~bot_direct['t1_author_id'].isnull())])}\") # complete\n",
    "print(f\"share complete in total: {len(bot_direct[(~bot_direct['t1_text_cleaned'].isnull())&(~bot_direct['t1_author_id'].isnull())])/len(bot_direct)}\") # share complete in total\n",
    "print(f\"incomplete: {len(bot_direct) - len(bot_direct[(~bot_direct['t1_text_cleaned'].isnull())&(~bot_direct['t1_author_id'].isnull())])}\") # incomplete\n",
    "print(f\"tweet_o not available: {len(bot_direct[bot_direct['t1_text_cleaned'].isnull()])}\") # tweet_O not available\n",
    "print(f\"user_o not available: {len(bot_direct[bot_direct['t1_author_id'].isnull()])}\") # user_O not available"
   ]
  },
  {
   "cell_type": "code",
   "execution_count": 5,
   "id": "a8cdb994-6a83-4ec8-953e-fa26a57b3a4b",
   "metadata": {
    "tags": []
   },
   "outputs": [
    {
     "name": "stdout",
     "output_type": "stream",
     "text": [
      "unique tweet_o: 189323\n",
      "unique user_o: 171215\n",
      "unique user_a: 185254\n"
     ]
    }
   ],
   "source": [
    "print(f\"unique tweet_o: {len(bot_direct.drop_duplicates('t1_id'))}\")\n",
    "print(f\"unique user_o: {len(bot_direct.drop_duplicates('t1_author_id'))}\")\n",
    "print(f\"unique user_a: {len(bot_direct.drop_duplicates('t2_author_id'))}\")"
   ]
  },
  {
   "cell_type": "code",
   "execution_count": 6,
   "id": "f8cfbf08-2ed3-4369-b01e-91043c85ed9c",
   "metadata": {
    "tags": []
   },
   "outputs": [
    {
     "name": "stdout",
     "output_type": "stream",
     "text": [
      "most accusations: 1321.0\n",
      "most accusers: 983\n",
      "most accusings: 1344\n",
      "most accusees: 747.0\n",
      "being accused by more than 1: 15748\n",
      "avg. number of accusers: 3.2846075692151384\n",
      "accusing more than 1: 24731\n",
      "avg. number of accusees: 3.6719501839796207\n"
     ]
    }
   ],
   "source": [
    "# bot_direct\n",
    "print(f\"most accusations: {bot_direct.sort_values('n_accusations', ascending=False)['n_accusations'].iloc[0]}\")\n",
    "print(f\"most accusers: {bot_direct.sort_values('n_accusations', ascending=False)['n_accusers'].iloc[0]}\")\n",
    "print(f\"most accusings: {bot_direct.sort_values('n_accusing', ascending=False)['n_accusing'].iloc[0]}\")\n",
    "print(f\"most accusees: {bot_direct.sort_values('n_accusing', ascending=False)['n_accusees'].iloc[0]}\")\n",
    "\n",
    "# being accused\n",
    "print(f\"being accused by more than 1: {len(bot_direct[bot_direct['n_accusers']>1].drop_duplicates('t1_author_id'))}\")\n",
    "print(f\"avg. number of accusers: {bot_direct[bot_direct['n_accusers']>1].drop_duplicates('t1_author_id')['n_accusers'].mean()}\")\n",
    "\n",
    "# accusing\n",
    "print(f\"accusing more than 1: {len(bot_direct[bot_direct['n_accusees']>1].drop_duplicates('t2_author_id'))}\")\n",
    "print(f\"avg. number of accusees: {bot_direct[bot_direct['n_accusees']>1].drop_duplicates('t2_author_id')['n_accusees'].mean()}\")"
   ]
  },
  {
   "cell_type": "markdown",
   "id": "ea22f580-79bf-4e86-a0eb-ac413ceff1e9",
   "metadata": {},
   "source": [
    "### bot_general"
   ]
  },
  {
   "cell_type": "code",
   "execution_count": 7,
   "id": "3684a74e-23ca-4a8f-a57a-0a35e18dbc46",
   "metadata": {
    "tags": []
   },
   "outputs": [],
   "source": [
    "bot_general = pd.read_pickle(os.path.join(new_path,'_data','bot_general.pkl'))"
   ]
  },
  {
   "cell_type": "code",
   "execution_count": 8,
   "id": "7ab928e4-2f45-48c6-b5f2-6e96c9e5afba",
   "metadata": {
    "tags": []
   },
   "outputs": [],
   "source": [
    "datetime_t2 = pd.to_datetime(bot_general['t2_datetime'])\n",
    "bot_general['year'] = datetime_t2.dt.year"
   ]
  },
  {
   "cell_type": "code",
   "execution_count": 9,
   "id": "9d689677-cc95-47a7-8683-f4a4adf62dce",
   "metadata": {
    "tags": []
   },
   "outputs": [
    {
     "name": "stdout",
     "output_type": "stream",
     "text": [
      "n total: 9069182\n",
      "complete: 5936705\n",
      "share complete in total: 0.6546020357734579\n",
      "incomplete: 3132477\n",
      "tweet_o not available: 3131278\n",
      "user_o not available: 2536108\n"
     ]
    }
   ],
   "source": [
    "print(f\"n total: {len(bot_general)}\")\n",
    "print(f\"complete: {len(bot_general[(~bot_general['t1_text_cleaned'].isnull())&(~bot_general['t1_author_id'].isnull())])}\") # complete\n",
    "print(f\"share complete in total: {len(bot_general[(~bot_general['t1_text_cleaned'].isnull())&(~bot_general['t1_author_id'].isnull())])/len(bot_general)}\") # share complete in total\n",
    "print(f\"incomplete: {len(bot_general) - len(bot_general[(~bot_general['t1_text_cleaned'].isnull())&(~bot_general['t1_author_id'].isnull())])}\") # incomplete\n",
    "print(f\"tweet_o not available: {len(bot_general[bot_general['t1_text_cleaned'].isnull()])}\") # tweet_O not available\n",
    "print(f\"user_o not available: {len(bot_general[bot_general['t1_author_id'].isnull()])}\") # user_O not available"
   ]
  },
  {
   "cell_type": "code",
   "execution_count": 10,
   "id": "9385a49b-5f68-4927-9b18-dede8f1c3e64",
   "metadata": {
    "tags": []
   },
   "outputs": [
    {
     "name": "stdout",
     "output_type": "stream",
     "text": [
      "unique tweet_o: 5387682\n",
      "unique user_o: 2683510\n",
      "unique user_a: 2391749\n"
     ]
    }
   ],
   "source": [
    "# bot general\n",
    "print(f\"unique tweet_o: {len(bot_general.drop_duplicates('t1_id'))}\")\n",
    "print(f\"unique user_o: {len(bot_general.drop_duplicates('t1_author_id'))}\")\n",
    "print(f\"unique user_a: {len(bot_general.drop_duplicates('t2_author_id'))}\")"
   ]
  },
  {
   "cell_type": "markdown",
   "id": "8c11cd72-af2f-4461-aac5-3fcf0e7f30b1",
   "metadata": {},
   "source": [
    "### bot_all"
   ]
  },
  {
   "cell_type": "code",
   "execution_count": 11,
   "id": "81dde755-6cd9-46ee-b35a-f1b6fdc289a3",
   "metadata": {
    "tags": []
   },
   "outputs": [],
   "source": [
    "bot_all = pd.read_pickle(os.path.join(new_path,'_data','bot_all.pkl'))"
   ]
  },
  {
   "cell_type": "code",
   "execution_count": 12,
   "id": "9896e430-952d-469d-bf49-2ed27cae9ec9",
   "metadata": {
    "tags": []
   },
   "outputs": [
    {
     "data": {
      "text/plain": [
       "22275139"
      ]
     },
     "execution_count": 12,
     "metadata": {},
     "output_type": "execute_result"
    }
   ],
   "source": [
    "len(bot_all)"
   ]
  },
  {
   "cell_type": "code",
   "execution_count": 13,
   "id": "f0905525-905b-4e0b-8c30-a1180e0dabcd",
   "metadata": {
    "tags": []
   },
   "outputs": [],
   "source": [
    "datetime_t2 = pd.to_datetime(bot_all['t2_datetime'])\n",
    "bot_all['year'] = datetime_t2.dt.year"
   ]
  },
  {
   "cell_type": "markdown",
   "id": "c8ee5ba4-be00-416d-b3c6-286b8a63a6b5",
   "metadata": {},
   "source": [
    "### fig 2: yearly overview"
   ]
  },
  {
   "cell_type": "code",
   "execution_count": 14,
   "id": "985ca740-b007-491f-8d47-1ad3f07d3d1b",
   "metadata": {
    "tags": []
   },
   "outputs": [],
   "source": [
    "pd_overview = pd.DataFrame([2007+i for i in range(16)], columns=['year'])\n",
    "\n",
    "for name, df in [('bot_all',bot_all), ('bot_general',bot_general), ('bot_direct',bot_direct)]:\n",
    "    stats = []\n",
    "    for year in [2007+i for i in range(16)]:\n",
    "        stats.append(len(df[df['year']==year]))\n",
    "    pd_overview.loc[:,name] = stats"
   ]
  },
  {
   "cell_type": "code",
   "execution_count": 15,
   "id": "6de53138-edc5-476b-b349-dfaec6d5c0ef",
   "metadata": {
    "tags": []
   },
   "outputs": [],
   "source": [
    "pd_overview.loc[:,'s_general_in_all'] = pd_overview['bot_general'] / pd_overview['bot_all']"
   ]
  },
  {
   "cell_type": "markdown",
   "id": "07fe0c23-68d7-424a-97f5-60d5808c4b2a",
   "metadata": {},
   "source": [
    "share 'general accusations' in bot_all; average before 2017"
   ]
  },
  {
   "cell_type": "code",
   "execution_count": 16,
   "id": "db3cf6d4-b1f7-4dda-a21c-5360748f34c8",
   "metadata": {
    "tags": []
   },
   "outputs": [
    {
     "data": {
      "text/plain": [
       "0.1742846531955496"
      ]
     },
     "execution_count": 16,
     "metadata": {},
     "output_type": "execute_result"
    }
   ],
   "source": [
    "pd_overview.iloc[:10].mean()['s_general_in_all']"
   ]
  },
  {
   "cell_type": "markdown",
   "id": "9f9050df-426f-43d9-848f-e69c86ac7d7f",
   "metadata": {},
   "source": [
    "share 'general accusations' in bot_all; average since (and incl.) 2017"
   ]
  },
  {
   "cell_type": "code",
   "execution_count": 17,
   "id": "897436c5-3b88-481f-9936-9fea7b6cccec",
   "metadata": {
    "tags": []
   },
   "outputs": [
    {
     "data": {
      "text/plain": [
       "0.4634891745754213"
      ]
     },
     "execution_count": 17,
     "metadata": {},
     "output_type": "execute_result"
    }
   ],
   "source": [
    "pd_overview.iloc[10:].mean()['s_general_in_all']"
   ]
  },
  {
   "cell_type": "code",
   "execution_count": 18,
   "id": "ee9e981e-f892-4f2a-b5c1-7df5436d7d9a",
   "metadata": {
    "tags": []
   },
   "outputs": [],
   "source": [
    "pd_overview['sqrt_bot_all'] = pd_overview['bot_all']**0.5\n",
    "pd_overview['sqrt_bot_direct'] = pd_overview['bot_direct']**0.5\n",
    "pd_overview['sqrt_bot_general'] = pd_overview['bot_general']**0.5"
   ]
  },
  {
   "cell_type": "code",
   "execution_count": 19,
   "id": "d4d0c4c2-ed3c-404f-9135-b23bebf8dc6b",
   "metadata": {
    "tags": []
   },
   "outputs": [],
   "source": [
    "ylabel = ['1e+05','5e+05','1e+06','5e+06']\n",
    "yticks = [i**0.5 for i in [100000,500000,1000000,5000000]]\n",
    "years = [\"07\",\"08\",\"09\",\"10\",\"11\",\"12\",\"13\",\"14\",\"15\",\"16\",\"17\",\"18\",\"19\",\"20\",\"21\",\"22\"]"
   ]
  },
  {
   "cell_type": "code",
   "execution_count": 20,
   "id": "b2f3f5f1-45bb-41f7-95c1-43f8a8b1d7b5",
   "metadata": {
    "tags": []
   },
   "outputs": [
    {
     "data": {
      "image/png": "[encoded data removed]",
      "text/plain": [
       "<Figure size 500x300 with 1 Axes>"
      ]
     },
     "metadata": {},
     "output_type": "display_data"
    }
   ],
   "source": [
    "fig, ax = plt.subplots(figsize=(5,3))\n",
    "width = 0.2\n",
    "loc = 0.2\n",
    "\n",
    "ax.set_xlabel('year')\n",
    "ax.set_ylabel('instances')\n",
    "plt.bar([i-loc for i in range(len(years))], pd_overview['sqrt_bot_direct'], label='$bot_{direct}$', width=width)\n",
    "plt.bar([i for i in range(len(years))], pd_overview['sqrt_bot_general'], label='$bot_{general}$', width=width)\n",
    "plt.bar([i+loc for i in range(len(years))], pd_overview['sqrt_bot_all'], label=r'$bot_{all}$', width=width)\n",
    "plt.legend()\n",
    "ax.set_xticks([i for i in range(len(years))],years)\n",
    "ax.set_yticks(yticks,ylabel)\n",
    "\n",
    "plt.plot()\n",
    "plt.savefig(os.path.join(new_path,'_results','fig2_accusations.pdf'), bbox_inches='tight')\n",
    "plt.show()"
   ]
  }
 ],
 "metadata": {
  "kernelspec": {
   "display_name": "Python 3 (ipykernel)",
   "language": "python",
   "name": "python3"
  },
  "language_info": {
   "codemirror_mode": {
    "name": "ipython",
    "version": 3
   },
   "file_extension": ".py",
   "mimetype": "text/x-python",
   "name": "python",
   "nbconvert_exporter": "python",
   "pygments_lexer": "ipython3",
   "version": "3.11.7"
  }
 },
 "nbformat": 4,
 "nbformat_minor": 5
}
