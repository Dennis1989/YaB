{
 "cells": [
  {
   "cell_type": "code",
   "execution_count": null,
   "id": "5b79f961-55c1-4143-babc-653a25ba4652",
   "metadata": {},
   "outputs": [],
   "source": [
    "!pip install detoxify"
   ]
  },
  {
   "cell_type": "code",
   "execution_count": 1,
   "id": "372e2553-92bc-45f1-9e1e-87a8bfdb4e13",
   "metadata": {
    "tags": []
   },
   "outputs": [],
   "source": [
    "import os\n",
    "import pandas as pd\n",
    "\n",
    "new_path = os.path.split(os.getcwd())[0]\n",
    "\n",
    "import pickle\n",
    "from detoxify import Detoxify\n",
    "from tqdm import tqdm_notebook\n",
    "from sklearn.metrics import balanced_accuracy_score\n",
    "import numpy as np\n",
    "import re\n",
    "import matplotlib.pyplot as plt"
   ]
  },
  {
   "cell_type": "markdown",
   "id": "75ce6f9e-1265-4c42-8236-f7c81636367d",
   "metadata": {},
   "source": [
    "### toxicity over time"
   ]
  },
  {
   "cell_type": "code",
   "execution_count": null,
   "id": "5b62834e-b4a3-49f6-bde6-d5fd4e579446",
   "metadata": {
    "tags": []
   },
   "outputs": [],
   "source": [
    "bot_general = pd.read_pickle(os.path.join(new_path,'_data','bot_general.pkl'))"
   ]
  },
  {
   "cell_type": "markdown",
   "id": "ef5c2bbc-9b3e-499b-ad2e-259ba6b07215",
   "metadata": {},
   "source": [
    "#### validate detoxify"
   ]
  },
  {
   "cell_type": "markdown",
   "id": "31bac963-0ec6-419e-816f-0d871bf6f383",
   "metadata": {},
   "source": [
    "create random sample for validation"
   ]
  },
  {
   "cell_type": "code",
   "execution_count": null,
   "id": "f1643a48-16b5-4e91-b236-b7b17aa4bead",
   "metadata": {
    "tags": []
   },
   "outputs": [],
   "source": [
    "bot_general_t1 = bot_general[(~bot_general['t1_text_cleaned'].isnull())&(bot_general['t1_text_cleaned']!='')&(bot_general['predicted_label']==1)].drop_duplicates('t1_id')\n",
    "bot_general_t2 = bot_general[(~bot_general['t2_text_cleaned'].isnull())&(bot_general['t2_text_cleaned']!='')&(bot_general['predicted_label']==1)].drop_duplicates('t2_id')"
   ]
  },
  {
   "cell_type": "code",
   "execution_count": null,
   "id": "4380c80c-aa67-4829-a1de-f250429d341b",
   "metadata": {
    "tags": []
   },
   "outputs": [],
   "source": [
    "pd_detox_sample_t1 = bot_general_t1.sample(50, random_state=1)[['t2_id','t1_text']]\n",
    "pd_detox_sample_t1.columns = ['ID','Text']\n",
    "pd_detox_sample_t2 = bot_general_t2.sample(50, random_state=1)[['t2_id','t2_text']]\n",
    "pd_detox_sample_t2.columns = ['ID','Text']"
   ]
  },
  {
   "cell_type": "code",
   "execution_count": null,
   "id": "c73c6bd7-9b7f-4136-b4f2-4d29c8200d02",
   "metadata": {
    "tags": []
   },
   "outputs": [],
   "source": [
    "pd_detox_sample = pd.concat([pd_detox_sample_t1,pd_detox_sample_t2])\n",
    "pd_detox_sample['Label'] = ''\n",
    "pd_detox_sample = pd_detox_sample.reset_index(drop=True)"
   ]
  },
  {
   "cell_type": "code",
   "execution_count": null,
   "id": "ab4a3168-37e2-4dee-a254-75775393faba",
   "metadata": {
    "tags": []
   },
   "outputs": [],
   "source": [
    "len(pd_detox_sample)"
   ]
  },
  {
   "cell_type": "code",
   "execution_count": null,
   "id": "e27b526f-455f-4605-ad53-eee184f0c7ad",
   "metadata": {},
   "outputs": [],
   "source": [
    "pd_detox_sample.to_csv(os.path.join(new_path,'_data','_toxicity','detoxify_validation_sample.csv'))"
   ]
  },
  {
   "cell_type": "markdown",
   "id": "05850529-6e7f-4b17-880c-29df06ee36d6",
   "metadata": {},
   "source": [
    "import expert annotations"
   ]
  },
  {
   "cell_type": "code",
   "execution_count": 2,
   "id": "ddffe571-94ea-4d03-8918-3d427e7d786b",
   "metadata": {
    "tags": []
   },
   "outputs": [],
   "source": [
    "pd_expert1 = pd.read_csv(os.path.join(new_path,'_data','_toxicity','detoxify_validation_expert1.csv'), index_col=0).astype({'ID':int})\n",
    "pd_expert2 = pd.read_csv(os.path.join(new_path,'_data','_toxicity','detoxify_validation_expert2.csv'), index_col=0).astype({'ID':int})\n",
    "\n",
    "pd_expert1 = pd_expert1.rename(columns={'Label': 'Label_e1'})\n",
    "pd_expert2 = pd_expert2.rename(columns={'Label': 'Label_e2'})"
   ]
  },
  {
   "cell_type": "code",
   "execution_count": 3,
   "id": "e42978da-7247-42cc-bb0f-2ccde5cb467e",
   "metadata": {
    "tags": []
   },
   "outputs": [],
   "source": [
    "pd_experts = pd_expert1.merge(pd_expert2, on='ID')"
   ]
  },
  {
   "cell_type": "code",
   "execution_count": 4,
   "id": "8d4e2423-efe1-422a-b04b-14ba951feda1",
   "metadata": {
    "tags": []
   },
   "outputs": [],
   "source": [
    "pd_experts = pd_experts.drop('Text_y', axis=1)\n",
    "pd_experts = pd_experts.rename(columns={'Text_x': 'Text'})"
   ]
  },
  {
   "cell_type": "code",
   "execution_count": 5,
   "id": "a0d2c1ea-3b8f-4670-aa5d-17fe42ab68ac",
   "metadata": {
    "tags": []
   },
   "outputs": [],
   "source": [
    "pd_experts['agreement'] = pd_experts['Label_e1'] == pd_experts['Label_e2']"
   ]
  },
  {
   "cell_type": "markdown",
   "id": "421f423b-c00f-43d3-8660-22cebf2f4781",
   "metadata": {},
   "source": [
    "run detoxify on validation sample"
   ]
  },
  {
   "cell_type": "code",
   "execution_count": 6,
   "id": "ba6a4951-79b7-4f58-a5be-b1cf372c3206",
   "metadata": {
    "tags": []
   },
   "outputs": [],
   "source": [
    "model = Detoxify('original', device='cuda')"
   ]
  },
  {
   "cell_type": "code",
   "execution_count": 7,
   "id": "f241f0d0-2ea5-406d-a1f8-70bb97828b97",
   "metadata": {
    "tags": []
   },
   "outputs": [],
   "source": [
    "pd_experts['score_detoxify'] = [model.predict(text)['toxicity'] for text in pd_experts['Text']]"
   ]
  },
  {
   "cell_type": "markdown",
   "id": "1f559115-8f2f-4aec-84d2-84942309be25",
   "metadata": {},
   "source": [
    "evaluate agreement between experts and detoxify"
   ]
  },
  {
   "cell_type": "code",
   "execution_count": 8,
   "id": "b37129fc-6488-4512-a4de-7e33f1fb017f",
   "metadata": {
    "tags": []
   },
   "outputs": [],
   "source": [
    "label_experts = [1 if x == 'toxic' else 0 for x in pd_experts[pd_experts['agreement']==1]['Label_e1']]\n",
    "label_detoxify = [1 if x>0.7  else 0 for x in pd_experts[pd_experts['agreement']==1]['score_detoxify']]"
   ]
  },
  {
   "cell_type": "code",
   "execution_count": 9,
   "id": "bd3ac90c-26dd-433e-8261-08340736c756",
   "metadata": {
    "tags": []
   },
   "outputs": [
    {
     "data": {
      "text/plain": [
       "0.8979166666666667"
      ]
     },
     "execution_count": 9,
     "metadata": {},
     "output_type": "execute_result"
    }
   ],
   "source": [
    "balanced_accuracy_score(label_experts, label_detoxify)"
   ]
  },
  {
   "cell_type": "code",
   "execution_count": null,
   "id": "264e88c1-3642-4356-86d4-9c85475d5f1d",
   "metadata": {
    "tags": []
   },
   "outputs": [],
   "source": [
    "pd_experts.to_csv(os.path.join(new_path,'_data','_toxicity','detoxify_validation_scored.csv'))"
   ]
  },
  {
   "cell_type": "markdown",
   "id": "fd0c7ef4-726c-4358-beb8-3903fd3ba917",
   "metadata": {},
   "source": [
    "#### create benchmark dataset from tweets collected for \"a is:reply lang:en\""
   ]
  },
  {
   "cell_type": "code",
   "execution_count": null,
   "id": "3b8b1ba5-8c7f-43c3-9641-dfffef67b6cc",
   "metadata": {},
   "outputs": [],
   "source": [
    "# add empty values for keys missing from individual instances\n",
    "def handle_missing(tweets):\n",
    "    tweet_fields = ['author_id','conversation_id','id','created_at','geo','in_reply_to_user_id','public_metrics','source','text']\n",
    "    user_fields = ['created_at','description','id','name','profile_image_url','public_metrics','url','username','verified']\n",
    "\n",
    "    for tf in tweet_fields:\n",
    "        for tweet in tweets:\n",
    "            if not tweet['t1'] == None:\n",
    "                if not tf in tweet['t1'].keys():\n",
    "                    tweet['t1'][tf] = ''\n",
    "            if not tf in tweet['t2'].keys():\n",
    "                tweet['t2'][tf] = ''\n",
    "\n",
    "    for uf in user_fields:\n",
    "        for tweet in tweets:\n",
    "            if not tweet['t1_author'] == None:\n",
    "                if not uf in tweet['t1_author'].keys():\n",
    "                    tweet['t1_author'][uf] = ''\n",
    "            if not tweet['t2_author'] == None:\n",
    "                if not uf in tweet['t2_author'].keys():\n",
    "                    tweet['t2_author'][uf] = ''\n",
    "                    \n",
    "    return tweets\n",
    "\n",
    "# convert to dataframe\n",
    "def create_df(tweets):\n",
    "    tweet_fields = ['author_id','conversation_id','id','created_at','geo','in_reply_to_user_id','public_metrics','source','text']\n",
    "    user_fields = ['created_at','description','id','name','profile_image_url','public_metrics','url','username','verified']\n",
    "    pd_tweets = pd.DataFrame()\n",
    "    for tf in tweet_fields:\n",
    "        tf1_ = [tweet['t1'][tf] if not tweet['t1']==None else None for tweet in tweets]\n",
    "        tf2_ = [tweet['t2'][tf] for tweet in tweets]\n",
    "        pd_tweets['t1_'+tf] = tf1_\n",
    "        pd_tweets['t2_'+tf] = tf2_\n",
    "    for uf in user_fields:\n",
    "        uf1_ = [tweet['t1_author'][uf] if not tweet['t1_author']==None else None for tweet in tweets]\n",
    "        uf2_ = [tweet['t2_author'][uf] if not tweet['t2_author']==None else None for tweet in tweets]\n",
    "        pd_tweets['t1_author_'+uf] = uf1_\n",
    "        pd_tweets['t2_author_'+uf] = uf2_\n",
    "    return pd_tweets"
   ]
  },
  {
   "cell_type": "code",
   "execution_count": null,
   "id": "f9a665ea-933f-4f75-aed1-03158371f3cb",
   "metadata": {},
   "outputs": [],
   "source": [
    "with open(os.path.join(new_path,'_data','_toxicity','benchmark_toxicity_raw.pkl'),'rb') as f:\n",
    "    data_raw = pickle.load(f)"
   ]
  },
  {
   "cell_type": "markdown",
   "id": "935fa68c-aa9e-4b74-8cd3-67271561cd60",
   "metadata": {},
   "source": [
    "process data"
   ]
  },
  {
   "cell_type": "code",
   "execution_count": null,
   "id": "0b374ca7-0ea6-4757-9c40-31ccf76c7c4e",
   "metadata": {},
   "outputs": [],
   "source": [
    "data_raw = handle_missing(data_raw)\n",
    "pd_data = create_df(data_raw)"
   ]
  },
  {
   "cell_type": "code",
   "execution_count": null,
   "id": "0aee7878-6e1e-4d56-93f6-7d287615c8b4",
   "metadata": {},
   "outputs": [],
   "source": [
    "def clean_text_t1(row):\n",
    "    try:\n",
    "        text = re.sub('\\s{0,1}@{1}[a-zA-Z0-9_]+\\s{0,1}',' ',row['t1_text'])\n",
    "        text = re.sub('\\s{0,1}https://t.co/[a-zA-Z0-9]+\\s{0,1}',' ',text)\n",
    "        return text.strip()\n",
    "    except:\n",
    "        return row['t1_text']\n",
    "    \n",
    "def clean_text_t2(row):\n",
    "    text = re.sub('\\s{0,1}@{1}[a-zA-Z0-9_]+\\s{0,1}',' ',row['t2_text'])\n",
    "    text = re.sub('\\s{0,1}https://t.co/[a-zA-Z0-9]+\\s{0,1}',' ',text)\n",
    "    return text.strip()"
   ]
  },
  {
   "cell_type": "code",
   "execution_count": null,
   "id": "a3b64e6d-6d8e-4e40-823f-3d23a7f3e893",
   "metadata": {},
   "outputs": [],
   "source": [
    "pd_data['t1_text_cleaned'] = pd_data.apply(clean_text_t1, axis=1)\n",
    "pd_data['t2_text_cleaned'] = pd_data.apply(clean_text_t2, axis=1)"
   ]
  },
  {
   "cell_type": "code",
   "execution_count": null,
   "id": "6e13773b-4f33-4d4a-b449-1e243a16f7f2",
   "metadata": {},
   "outputs": [],
   "source": [
    "pd_data = pd_data[['t1_author_id', 't2_author_id', 't1_id', 't2_id', 't1_year', 't2_year', 't1_text_cleaned', 't2_text_cleaned']]\n",
    "pd_data = pd_data.reset_index(drop=True)\n",
    "pd_data.to_pickle(os.path.join(new_path,'_data','_toxicity',f'benchmark_toxicity.pkl'))"
   ]
  },
  {
   "cell_type": "markdown",
   "id": "b5b352c4-a836-4142-8dae-5c3d8b3d0154",
   "metadata": {},
   "source": [
    "#### run detoxify on bot_direct and benchmark dataset"
   ]
  },
  {
   "cell_type": "code",
   "execution_count": null,
   "id": "51a9a10a-d597-4deb-91d2-0a6cd9138834",
   "metadata": {},
   "outputs": [],
   "source": [
    "model = Detoxify('original', device='cuda')"
   ]
  },
  {
   "cell_type": "code",
   "execution_count": null,
   "id": "49f4918c-6ab8-415b-9524-5b2fc3fd3a6b",
   "metadata": {},
   "outputs": [],
   "source": [
    "bot_direct = pd.read_pickle(os.path.join(new_path,'_data','bot_direct.pkl'))\n",
    "\n",
    "bot_direct['t1_detoxify_toxicity'] = [model.predict(text)['toxicity'] if not text==None else None for text in bot_direct['t1_text_cleaned']]\n",
    "bot_direct['t2_detoxify_toxicity'] = [model.predict(text)['toxicity'] if not text==None else None for text in bot_direct['t2_text_cleaned']]\n",
    "\n",
    "bot_direct.to_pickle(os.path.join(new_path,'_data','bot_direct.pkl'))"
   ]
  },
  {
   "cell_type": "code",
   "execution_count": null,
   "id": "a26d90f5-c075-487a-b34f-fa1c9dccdbf8",
   "metadata": {},
   "outputs": [],
   "source": [
    "pd_benchmark = pd.read_pickle(os.path.join(new_path,'_data','_toxicity','benchmark_toxicity.pkl'))\n",
    "\n",
    "pd_benchmark['t1_detoxify_toxicity'] = [model.predict(text)['toxicity'] if not text==None else None for text in pd_benchmark['t1_text_cleaned']]\n",
    "pd_benchmark['t2_detoxify_toxicity'] = [model.predict(text)['toxicity'] if not text==None else None for text in pd_benchmark['t2_text_cleaned']]\n",
    "\n",
    "pd_benchmark.to_pickle(os.path.join(new_path,'_data','_toxicity','benchmark_toxicity.pkl'))"
   ]
  },
  {
   "cell_type": "markdown",
   "id": "1decd538-2889-4cc6-9dee-fad4abc06bd0",
   "metadata": {},
   "source": [
    "#### plot results"
   ]
  },
  {
   "cell_type": "code",
   "execution_count": 10,
   "id": "fb925e2a-9f9b-400c-b1a2-f50f1498d8e0",
   "metadata": {
    "tags": []
   },
   "outputs": [],
   "source": [
    "bot_direct = pd.read_pickle(os.path.join(new_path,'_data','bot_direct.pkl'))"
   ]
  },
  {
   "cell_type": "code",
   "execution_count": 11,
   "id": "434e1fd0-187b-4a56-9306-21fb76a65cb1",
   "metadata": {
    "tags": []
   },
   "outputs": [],
   "source": [
    "def plot_toxicity(toxic_type):\n",
    "    accusations = {'t1': {}, 't2': {}}\n",
    "    \n",
    "    start_year = 2008\n",
    "    for year in range(2023-start_year):\n",
    "        accusations['t1'][year+start_year] = [x for x in bot_direct[(bot_direct['t2_year']==year+start_year)&(~bot_direct['t1_'+toxic_type].isnull())]['t1_'+toxic_type]]\n",
    "        accusations['t2'][year+start_year] = [x for x in bot_direct[(bot_direct['t2_year']==year+start_year)&(~bot_direct['t2_'+toxic_type].isnull())]['t2_'+toxic_type]]\n",
    "\n",
    "    accusations_means = {}\n",
    "    accusations_means['t1'] = [np.mean(bot_direct[((bot_direct['t2_year']==year+start_year)&(~bot_direct['t1_'+toxic_type].isnull()))]['t1_'+toxic_type]) for year in range(start_year)]\n",
    "    accusations_means['t2'] = [np.mean(bot_direct[((bot_direct['t2_year']==year+start_year)&(~bot_direct['t2_'+toxic_type].isnull()))]['t2_'+toxic_type]) for year in range(start_year)]\n",
    "\n",
    "    pd_benchmark = pd.read_pickle(os.path.join(new_path,'_data','_toxicity','benchmark_toxicity.pkl'))\n",
    "    benchmark_means = {}\n",
    "    benchmark_means['t1'] = [np.mean(pd_benchmark[((pd_benchmark['t2_year']==year+start_year)&(~pd_benchmark['t1_'+toxic_type].isnull()))]['t1_'+toxic_type]) for year in range(start_year)]\n",
    "    benchmark_means['t2'] = [np.mean(pd_benchmark[((pd_benchmark['t2_year']==year+start_year)&(~pd_benchmark['t2_'+toxic_type].isnull()))]['t2_'+toxic_type]) for year in range(start_year)]\n",
    "    \n",
    "    fig, axs = plt.subplots(2,1,figsize=(3.5,4))\n",
    "    plotnames = ['$tweet_O$','$tweet_A$']\n",
    "    # fig.suptitle(f'{toxic_type.split(\"_\")[1].title()} Scores from {toxic_type.split(\"_\")[0].upper()}')\n",
    "    for i,tweet in enumerate(['t1','t2']):\n",
    "        axs[i].boxplot(accusations[tweet].values(), showfliers=False, medianprops={'linewidth': 0})\n",
    "        axs[i].plot([j+1 for j in range(start_year)],accusations_means[tweet],marker=\"+\",linestyle='dashed',label='Accusations',c='red')\n",
    "        axs[i].plot([j+1 for j in range(start_year)],benchmark_means[tweet],marker=\"+\",linestyle='dashed',label='Baseline',c='navy')\n",
    "        axs[i].legend()\n",
    "        x_labels = ['' for i in range(16)]\n",
    "        x_labels[1],x_labels[8],x_labels[-1] = '2008','2015','2022'        \n",
    "        axs[i].set_xticks([i for i in range(16)],x_labels)\n",
    "        axs[i].set_ylim(0, 1)\n",
    "        axs[i].title.set_text(plotnames[i])\n",
    "    plt.tight_layout()\n",
    "    plt.savefig(os.path.join(new_path,'_results','fig3_toxicity.pdf'))\n",
    "    plt.show()"
   ]
  },
  {
   "cell_type": "code",
   "execution_count": 12,
   "id": "aad4bbd3-7e12-467f-8e5a-4afa960f230b",
   "metadata": {
    "tags": []
   },
   "outputs": [
    {
     "data": {
      "image/png": "[encoded data removed]",
      "text/plain": [
       "<Figure size 350x400 with 2 Axes>"
      ]
     },
     "metadata": {},
     "output_type": "display_data"
    }
   ],
   "source": [
    "plot_toxicity('detoxify_toxicity')"
   ]
  }
 ],
 "metadata": {
  "kernelspec": {
   "display_name": "Python 3 (ipykernel)",
   "language": "python",
   "name": "python3"
  },
  "language_info": {
   "codemirror_mode": {
    "name": "ipython",
    "version": 3
   },
   "file_extension": ".py",
   "mimetype": "text/x-python",
   "name": "python",
   "nbconvert_exporter": "python",
   "pygments_lexer": "ipython3",
   "version": "3.11.7"
  }
 },
 "nbformat": 4,
 "nbformat_minor": 5
}
