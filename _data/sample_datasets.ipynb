{
 "cells": [
  {
   "cell_type": "code",
   "execution_count": 1,
   "id": "731687eb-3882-4645-a71a-30ed3d72a847",
   "metadata": {
    "tags": []
   },
   "outputs": [],
   "source": [
    "import pandas as pd"
   ]
  },
  {
   "cell_type": "markdown",
   "id": "e9b858cc-869c-4339-9234-6f2eb2d539e0",
   "metadata": {},
   "source": [
    "#### bot_all"
   ]
  },
  {
   "cell_type": "code",
   "execution_count": 2,
   "id": "6dcd8011-e45f-420b-a612-59537de7a79e",
   "metadata": {
    "tags": []
   },
   "outputs": [],
   "source": [
    "bot_all = pd.read_pickle('bot_all.pkl')"
   ]
  },
  {
   "cell_type": "code",
   "execution_count": 3,
   "id": "e0e4358d-4fbd-4581-9b07-a57bd0b3f27d",
   "metadata": {
    "tags": []
   },
   "outputs": [
    {
     "data": {
      "text/plain": [
       "22275139"
      ]
     },
     "execution_count": 3,
     "metadata": {},
     "output_type": "execute_result"
    }
   ],
   "source": [
    "len(bot_all)"
   ]
  },
  {
   "cell_type": "code",
   "execution_count": 4,
   "id": "ddd9d08a-25c6-491f-b188-9501a653c1e0",
   "metadata": {
    "tags": []
   },
   "outputs": [
    {
     "data": {
      "text/plain": [
       "Index(['t1_id', 't1_author_id', 't1_author_username', 't1_datetime', 't1_text',\n",
       "       't1_text_cleaned', 't2_id', 't2_author_id', 't2_author_username',\n",
       "       't2_datetime', 't2_text', 't2_text_cleaned', 't2_text_processed',\n",
       "       'predicted_label'],\n",
       "      dtype='object')"
      ]
     },
     "execution_count": 4,
     "metadata": {},
     "output_type": "execute_result"
    }
   ],
   "source": [
    "bot_all.columns"
   ]
  },
  {
   "cell_type": "code",
   "execution_count": 5,
   "id": "d27ae624-b855-46e2-b33e-ef17dec08c20",
   "metadata": {
    "tags": []
   },
   "outputs": [],
   "source": [
    "bot_all = bot_all.sample(100, random_state=1)\n",
    "bot_all = bot_all[['t1_id','t2_id','t1_author_id','t2_author_id','predicted_label']]"
   ]
  },
  {
   "cell_type": "code",
   "execution_count": 6,
   "id": "e79f7682-37de-4c60-9744-ce12c09cd7c6",
   "metadata": {},
   "outputs": [
    {
     "data": {
      "text/html": [
       "<div>\n",
       "<style scoped>\n",
       "    .dataframe tbody tr th:only-of-type {\n",
       "        vertical-align: middle;\n",
       "    }\n",
       "\n",
       "    .dataframe tbody tr th {\n",
       "        vertical-align: top;\n",
       "    }\n",
       "\n",
       "    .dataframe thead th {\n",
       "        text-align: right;\n",
       "    }\n",
       "</style>\n",
       "<table border=\"1\" class=\"dataframe\">\n",
       "  <thead>\n",
       "    <tr style=\"text-align: right;\">\n",
       "      <th></th>\n",
       "      <th>t1_id</th>\n",
       "      <th>t2_id</th>\n",
       "      <th>t1_author_id</th>\n",
       "      <th>t2_author_id</th>\n",
       "      <th>predicted_label</th>\n",
       "    </tr>\n",
       "  </thead>\n",
       "  <tbody>\n",
       "    <tr>\n",
       "      <th>5998546</th>\n",
       "      <td>None</td>\n",
       "      <td>1078609641536393216</td>\n",
       "      <td>NaN</td>\n",
       "      <td>911365117010436096</td>\n",
       "      <td>0</td>\n",
       "    </tr>\n",
       "    <tr>\n",
       "      <th>20504190</th>\n",
       "      <td>1575549282202968066</td>\n",
       "      <td>1575549704699580426</td>\n",
       "      <td>1313240299666374656</td>\n",
       "      <td>1510470873945411585</td>\n",
       "      <td>0</td>\n",
       "    </tr>\n",
       "    <tr>\n",
       "      <th>21432796</th>\n",
       "      <td>1590576270366363648</td>\n",
       "      <td>1590659445536980995</td>\n",
       "      <td>1507338108</td>\n",
       "      <td>1575419191041359872</td>\n",
       "      <td>0</td>\n",
       "    </tr>\n",
       "    <tr>\n",
       "      <th>19603082</th>\n",
       "      <td>1558757995898617862</td>\n",
       "      <td>1558757999459635202</td>\n",
       "      <td>1252219954700718081</td>\n",
       "      <td>1252219954700718081</td>\n",
       "      <td>0</td>\n",
       "    </tr>\n",
       "    <tr>\n",
       "      <th>15668648</th>\n",
       "      <td>1462867382439927809</td>\n",
       "      <td>1462881586869944334</td>\n",
       "      <td>334921581</td>\n",
       "      <td>1063051371925172224</td>\n",
       "      <td>1</td>\n",
       "    </tr>\n",
       "  </tbody>\n",
       "</table>\n",
       "</div>"
      ],
      "text/plain": [
       "                        t1_id                t2_id         t1_author_id  \\\n",
       "5998546                  None  1078609641536393216                  NaN   \n",
       "20504190  1575549282202968066  1575549704699580426  1313240299666374656   \n",
       "21432796  1590576270366363648  1590659445536980995           1507338108   \n",
       "19603082  1558757995898617862  1558757999459635202  1252219954700718081   \n",
       "15668648  1462867382439927809  1462881586869944334            334921581   \n",
       "\n",
       "                 t2_author_id predicted_label  \n",
       "5998546    911365117010436096               0  \n",
       "20504190  1510470873945411585               0  \n",
       "21432796  1575419191041359872               0  \n",
       "19603082  1252219954700718081               0  \n",
       "15668648  1063051371925172224               1  "
      ]
     },
     "execution_count": 6,
     "metadata": {},
     "output_type": "execute_result"
    }
   ],
   "source": [
    "bot_all.head()"
   ]
  },
  {
   "cell_type": "code",
   "execution_count": 7,
   "id": "4614431d-44a8-49c8-9498-a144971bc4be",
   "metadata": {
    "tags": []
   },
   "outputs": [],
   "source": [
    "bot_all.to_pickle('sample_bot_all.pkl')"
   ]
  },
  {
   "cell_type": "markdown",
   "id": "2d449c7b-60d4-4723-916e-6a3e3e8ba55e",
   "metadata": {},
   "source": [
    "#### bot_general"
   ]
  },
  {
   "cell_type": "code",
   "execution_count": 8,
   "id": "04333ae8-ab38-4f93-a68a-0a1959d76fe3",
   "metadata": {
    "tags": []
   },
   "outputs": [],
   "source": [
    "bot_general = pd.read_pickle('bot_general.pkl')"
   ]
  },
  {
   "cell_type": "code",
   "execution_count": 9,
   "id": "0739de17-55e4-474f-9796-03197ff273d8",
   "metadata": {
    "tags": []
   },
   "outputs": [
    {
     "data": {
      "text/plain": [
       "9069182"
      ]
     },
     "execution_count": 9,
     "metadata": {},
     "output_type": "execute_result"
    }
   ],
   "source": [
    "len(bot_general)"
   ]
  },
  {
   "cell_type": "code",
   "execution_count": 10,
   "id": "63dcd30a-78cb-4c00-b43c-031efb6e5619",
   "metadata": {
    "tags": []
   },
   "outputs": [
    {
     "data": {
      "text/plain": [
       "Index(['t1_id', 't1_author_id', 't1_author_username', 't1_datetime', 't1_text',\n",
       "       't1_text_cleaned', 't2_id', 't2_author_id', 't2_author_username',\n",
       "       't2_datetime', 't2_text', 't2_text_cleaned', 't2_text_processed',\n",
       "       'predicted_label'],\n",
       "      dtype='object')"
      ]
     },
     "execution_count": 10,
     "metadata": {},
     "output_type": "execute_result"
    }
   ],
   "source": [
    "bot_general.columns"
   ]
  },
  {
   "cell_type": "code",
   "execution_count": 11,
   "id": "c57da924-6f05-4b8e-b3fd-5f1ac4cf642b",
   "metadata": {
    "tags": []
   },
   "outputs": [],
   "source": [
    "bot_general = bot_general.sample(100, random_state=1)\n",
    "bot_general = bot_general[['t1_id','t2_id','t1_author_id','t2_author_id','predicted_label']]"
   ]
  },
  {
   "cell_type": "code",
   "execution_count": 12,
   "id": "e367ffda-264d-4106-8479-92276e4815bf",
   "metadata": {
    "tags": []
   },
   "outputs": [
    {
     "data": {
      "text/html": [
       "<div>\n",
       "<style scoped>\n",
       "    .dataframe tbody tr th:only-of-type {\n",
       "        vertical-align: middle;\n",
       "    }\n",
       "\n",
       "    .dataframe tbody tr th {\n",
       "        vertical-align: top;\n",
       "    }\n",
       "\n",
       "    .dataframe thead th {\n",
       "        text-align: right;\n",
       "    }\n",
       "</style>\n",
       "<table border=\"1\" class=\"dataframe\">\n",
       "  <thead>\n",
       "    <tr style=\"text-align: right;\">\n",
       "      <th></th>\n",
       "      <th>t1_id</th>\n",
       "      <th>t2_id</th>\n",
       "      <th>t1_author_id</th>\n",
       "      <th>t2_author_id</th>\n",
       "      <th>predicted_label</th>\n",
       "    </tr>\n",
       "  </thead>\n",
       "  <tbody>\n",
       "    <tr>\n",
       "      <th>6017184</th>\n",
       "      <td>None</td>\n",
       "      <td>1418295568003059713</td>\n",
       "      <td>NaN</td>\n",
       "      <td>18252291</td>\n",
       "      <td>1</td>\n",
       "    </tr>\n",
       "    <tr>\n",
       "      <th>2579625</th>\n",
       "      <td>1144670024050905088</td>\n",
       "      <td>1144670364653510657</td>\n",
       "      <td>3046525515</td>\n",
       "      <td>829296094102355968</td>\n",
       "      <td>1</td>\n",
       "    </tr>\n",
       "    <tr>\n",
       "      <th>2633137</th>\n",
       "      <td>None</td>\n",
       "      <td>1149537845658320898</td>\n",
       "      <td>NaN</td>\n",
       "      <td>782950897198338048</td>\n",
       "      <td>1</td>\n",
       "    </tr>\n",
       "    <tr>\n",
       "      <th>7846333</th>\n",
       "      <td>1548712176130605057</td>\n",
       "      <td>1548714227241603072</td>\n",
       "      <td>890692451710763008</td>\n",
       "      <td>890692451710763008</td>\n",
       "      <td>1</td>\n",
       "    </tr>\n",
       "    <tr>\n",
       "      <th>3281656</th>\n",
       "      <td>1210036540208009216</td>\n",
       "      <td>1210049744904609797</td>\n",
       "      <td>762932101</td>\n",
       "      <td>1514379060</td>\n",
       "      <td>1</td>\n",
       "    </tr>\n",
       "  </tbody>\n",
       "</table>\n",
       "</div>"
      ],
      "text/plain": [
       "                       t1_id                t2_id        t1_author_id  \\\n",
       "6017184                 None  1418295568003059713                 NaN   \n",
       "2579625  1144670024050905088  1144670364653510657          3046525515   \n",
       "2633137                 None  1149537845658320898                 NaN   \n",
       "7846333  1548712176130605057  1548714227241603072  890692451710763008   \n",
       "3281656  1210036540208009216  1210049744904609797           762932101   \n",
       "\n",
       "               t2_author_id predicted_label  \n",
       "6017184            18252291               1  \n",
       "2579625  829296094102355968               1  \n",
       "2633137  782950897198338048               1  \n",
       "7846333  890692451710763008               1  \n",
       "3281656          1514379060               1  "
      ]
     },
     "execution_count": 12,
     "metadata": {},
     "output_type": "execute_result"
    }
   ],
   "source": [
    "bot_general.head()"
   ]
  },
  {
   "cell_type": "code",
   "execution_count": 13,
   "id": "0c8f75c4-79c4-46b8-9161-7a7c2e10d83d",
   "metadata": {
    "tags": []
   },
   "outputs": [],
   "source": [
    "bot_general.to_pickle('sample_bot_general.pkl')"
   ]
  },
  {
   "cell_type": "markdown",
   "id": "620adfea-1be6-452b-b2b1-ef5585b45117",
   "metadata": {},
   "source": [
    "#### bot_direct"
   ]
  },
  {
   "cell_type": "code",
   "execution_count": 14,
   "id": "bea4ace3-37a5-474d-966c-9a90a083a156",
   "metadata": {
    "tags": []
   },
   "outputs": [],
   "source": [
    "bot_direct = pd.read_pickle('bot_direct.pkl')"
   ]
  },
  {
   "cell_type": "code",
   "execution_count": 15,
   "id": "37484d6d-df34-4e48-8185-3c8cd7fda6da",
   "metadata": {
    "tags": []
   },
   "outputs": [
    {
     "data": {
      "text/plain": [
       "309107"
      ]
     },
     "execution_count": 15,
     "metadata": {},
     "output_type": "execute_result"
    }
   ],
   "source": [
    "len(bot_direct)"
   ]
  },
  {
   "cell_type": "code",
   "execution_count": 16,
   "id": "8e69e3c2-f361-4e93-b4d8-cd376cceb5fc",
   "metadata": {
    "tags": []
   },
   "outputs": [
    {
     "data": {
      "text/plain": [
       "Index(['t1_conversation_id', 't1_id', 't1_created_at', 't1_geo',\n",
       "       't1_in_reply_to_user_id', 't1_public_metrics', 't1_source', 't1_text',\n",
       "       't2_conversation_id', 't2_id', 't2_created_at', 't2_geo',\n",
       "       't2_in_reply_to_user_id', 't2_public_metrics', 't2_source', 't2_text',\n",
       "       't1_author_created_at', 't1_author_description', 't1_author_id',\n",
       "       't1_author_location', 't1_author_name', 't1_author_profile_image_url',\n",
       "       't1_author_public_metrics', 't1_author_url', 't1_author_username',\n",
       "       't1_author_verified', 't2_author_created_at', 't2_author_description',\n",
       "       't2_author_id', 't2_author_location', 't2_author_name',\n",
       "       't2_author_profile_image_url', 't2_author_public_metrics',\n",
       "       't2_author_url', 't2_author_username', 't2_author_verified',\n",
       "       'filter_bot_in_text', 'filter_bot_in_mentions', 'filter_monologue',\n",
       "       't1_text_cleaned', 't2_text_cleaned', 'filter_t1_bot_pattern_lax',\n",
       "       'filter_t1_bot_pattern_strict', 'filter_t2_bot_pattern_lax',\n",
       "       'filter_t2_bot_pattern_strict', 't1_datetime', 't2_datetime', 't1_year',\n",
       "       't1_month', 't2_year', 't2_month', 't1_detoxify_toxicity',\n",
       "       't2_detoxify_toxicity', 'n_accusations', 'n_accusers', 'n_accusing',\n",
       "       'n_accusees'],\n",
       "      dtype='object')"
      ]
     },
     "execution_count": 16,
     "metadata": {},
     "output_type": "execute_result"
    }
   ],
   "source": [
    "bot_direct.columns"
   ]
  },
  {
   "cell_type": "code",
   "execution_count": 17,
   "id": "c3a064b0-8339-4bf3-9c41-77becde9de7c",
   "metadata": {
    "tags": []
   },
   "outputs": [],
   "source": [
    "bot_direct = bot_direct.sample(100, random_state=1)\n",
    "bot_direct = bot_direct[['t1_id','t2_id','t1_author_id','t2_author_id','t1_author_location','t2_author_location','t1_year','t2_year','n_accusations', 'n_accusers', 'n_accusing',\n",
    "       'n_accusees','t1_detoxify_toxicity','t2_detoxify_toxicity']]"
   ]
  },
  {
   "cell_type": "code",
   "execution_count": 18,
   "id": "d0bd83c1-afe7-4912-a006-bacc509663d1",
   "metadata": {
    "tags": []
   },
   "outputs": [
    {
     "data": {
      "text/html": [
       "<div>\n",
       "<style scoped>\n",
       "    .dataframe tbody tr th:only-of-type {\n",
       "        vertical-align: middle;\n",
       "    }\n",
       "\n",
       "    .dataframe tbody tr th {\n",
       "        vertical-align: top;\n",
       "    }\n",
       "\n",
       "    .dataframe thead th {\n",
       "        text-align: right;\n",
       "    }\n",
       "</style>\n",
       "<table border=\"1\" class=\"dataframe\">\n",
       "  <thead>\n",
       "    <tr style=\"text-align: right;\">\n",
       "      <th></th>\n",
       "      <th>t1_id</th>\n",
       "      <th>t2_id</th>\n",
       "      <th>t1_author_id</th>\n",
       "      <th>t2_author_id</th>\n",
       "      <th>t1_author_location</th>\n",
       "      <th>t2_author_location</th>\n",
       "      <th>t1_year</th>\n",
       "      <th>t2_year</th>\n",
       "      <th>n_accusations</th>\n",
       "      <th>n_accusers</th>\n",
       "      <th>n_accusing</th>\n",
       "      <th>n_accusees</th>\n",
       "      <th>t1_detoxify_toxicity</th>\n",
       "      <th>t2_detoxify_toxicity</th>\n",
       "    </tr>\n",
       "  </thead>\n",
       "  <tbody>\n",
       "    <tr>\n",
       "      <th>273127</th>\n",
       "      <td>1562231969425297409</td>\n",
       "      <td>1562233803271282688</td>\n",
       "      <td>1455179096036577284</td>\n",
       "      <td>1479319852137414658</td>\n",
       "      <td>Arizona</td>\n",
       "      <td>None</td>\n",
       "      <td>2022.0</td>\n",
       "      <td>2022</td>\n",
       "      <td>1.0</td>\n",
       "      <td>1</td>\n",
       "      <td>2</td>\n",
       "      <td>2.0</td>\n",
       "      <td>0.011717</td>\n",
       "      <td>0.429686</td>\n",
       "    </tr>\n",
       "    <tr>\n",
       "      <th>254221</th>\n",
       "      <td>1535073746159288321</td>\n",
       "      <td>1535084931101392897</td>\n",
       "      <td>884175906</td>\n",
       "      <td>1500299470474383366</td>\n",
       "      <td>Ground Gears, USA</td>\n",
       "      <td>None</td>\n",
       "      <td>2022.0</td>\n",
       "      <td>2022</td>\n",
       "      <td>1.0</td>\n",
       "      <td>1</td>\n",
       "      <td>3</td>\n",
       "      <td>2.0</td>\n",
       "      <td>0.923358</td>\n",
       "      <td>0.195091</td>\n",
       "    </tr>\n",
       "    <tr>\n",
       "      <th>184760</th>\n",
       "      <td>None</td>\n",
       "      <td>1345418315875774464</td>\n",
       "      <td>None</td>\n",
       "      <td>1127410188472819713</td>\n",
       "      <td>None</td>\n",
       "      <td>🍊</td>\n",
       "      <td>NaN</td>\n",
       "      <td>2021</td>\n",
       "      <td>NaN</td>\n",
       "      <td>0</td>\n",
       "      <td>1</td>\n",
       "      <td>NaN</td>\n",
       "      <td>None</td>\n",
       "      <td>0.257417</td>\n",
       "    </tr>\n",
       "    <tr>\n",
       "      <th>9963</th>\n",
       "      <td>None</td>\n",
       "      <td>575456519812087808</td>\n",
       "      <td>2557136532</td>\n",
       "      <td>52193121</td>\n",
       "      <td>Miami, FL</td>\n",
       "      <td>None</td>\n",
       "      <td>NaN</td>\n",
       "      <td>2015</td>\n",
       "      <td>1.0</td>\n",
       "      <td>1</td>\n",
       "      <td>1</td>\n",
       "      <td>NaN</td>\n",
       "      <td>None</td>\n",
       "      <td>0.097681</td>\n",
       "    </tr>\n",
       "    <tr>\n",
       "      <th>129807</th>\n",
       "      <td>1245422388969422856</td>\n",
       "      <td>1245427745087078400</td>\n",
       "      <td>51308923</td>\n",
       "      <td>589606816</td>\n",
       "      <td>None</td>\n",
       "      <td>California</td>\n",
       "      <td>2020.0</td>\n",
       "      <td>2020</td>\n",
       "      <td>1.0</td>\n",
       "      <td>1</td>\n",
       "      <td>3</td>\n",
       "      <td>2.0</td>\n",
       "      <td>0.942722</td>\n",
       "      <td>0.459453</td>\n",
       "    </tr>\n",
       "  </tbody>\n",
       "</table>\n",
       "</div>"
      ],
      "text/plain": [
       "                      t1_id                t2_id         t1_author_id  \\\n",
       "273127  1562231969425297409  1562233803271282688  1455179096036577284   \n",
       "254221  1535073746159288321  1535084931101392897            884175906   \n",
       "184760                 None  1345418315875774464                 None   \n",
       "9963                   None   575456519812087808           2557136532   \n",
       "129807  1245422388969422856  1245427745087078400             51308923   \n",
       "\n",
       "               t2_author_id t1_author_location t2_author_location  t1_year  \\\n",
       "273127  1479319852137414658            Arizona               None   2022.0   \n",
       "254221  1500299470474383366  Ground Gears, USA               None   2022.0   \n",
       "184760  1127410188472819713               None                  🍊      NaN   \n",
       "9963               52193121          Miami, FL               None      NaN   \n",
       "129807            589606816               None         California   2020.0   \n",
       "\n",
       "        t2_year  n_accusations  n_accusers  n_accusing  n_accusees  \\\n",
       "273127     2022            1.0           1           2         2.0   \n",
       "254221     2022            1.0           1           3         2.0   \n",
       "184760     2021            NaN           0           1         NaN   \n",
       "9963       2015            1.0           1           1         NaN   \n",
       "129807     2020            1.0           1           3         2.0   \n",
       "\n",
       "       t1_detoxify_toxicity  t2_detoxify_toxicity  \n",
       "273127             0.011717              0.429686  \n",
       "254221             0.923358              0.195091  \n",
       "184760                 None              0.257417  \n",
       "9963                   None              0.097681  \n",
       "129807             0.942722              0.459453  "
      ]
     },
     "execution_count": 18,
     "metadata": {},
     "output_type": "execute_result"
    }
   ],
   "source": [
    "bot_direct.head()"
   ]
  },
  {
   "cell_type": "code",
   "execution_count": 19,
   "id": "b55be9b8-826a-4f80-8e42-9fe459fa509c",
   "metadata": {
    "tags": []
   },
   "outputs": [],
   "source": [
    "bot_direct.to_pickle('sample_bot_direct.pkl')"
   ]
  },
  {
   "cell_type": "markdown",
   "id": "13744560-e55d-4b6c-81b2-5550262825cf",
   "metadata": {},
   "source": [
    "#### botometer"
   ]
  },
  {
   "cell_type": "code",
   "execution_count": 20,
   "id": "883b84c9-d09e-498d-93b3-86bfc11cf1bd",
   "metadata": {
    "tags": []
   },
   "outputs": [],
   "source": [
    "botometer_dataset = pd.read_pickle('_botometer/botometer_dataset.pkl')"
   ]
  },
  {
   "cell_type": "code",
   "execution_count": 21,
   "id": "264863c2-6665-4bc7-a82e-f2bb3ac858a8",
   "metadata": {
    "tags": []
   },
   "outputs": [
    {
     "data": {
      "text/plain": [
       "13638"
      ]
     },
     "execution_count": 21,
     "metadata": {},
     "output_type": "execute_result"
    }
   ],
   "source": [
    "len(botometer_dataset)"
   ]
  },
  {
   "cell_type": "code",
   "execution_count": 22,
   "id": "ae3e18b6-9c46-4ece-b54b-bd1f668ebc98",
   "metadata": {
    "tags": []
   },
   "outputs": [
    {
     "data": {
      "text/plain": [
       "Index(['t1_author_id', 't1_year', 'n_accusations', 'n_accusers', 'n_accusing',\n",
       "       'n_accusees', 't1_author_botometer_raw_overall'],\n",
       "      dtype='object')"
      ]
     },
     "execution_count": 22,
     "metadata": {},
     "output_type": "execute_result"
    }
   ],
   "source": [
    "botometer_dataset.columns"
   ]
  },
  {
   "cell_type": "code",
   "execution_count": 23,
   "id": "bbe4389b-24b0-483b-9b88-2b42e8401652",
   "metadata": {
    "tags": []
   },
   "outputs": [],
   "source": [
    "botometer_dataset = botometer_dataset.sample(100, random_state=1)"
   ]
  },
  {
   "cell_type": "code",
   "execution_count": 24,
   "id": "122760b0-c85c-465f-8cc4-ce1b9e1b29d2",
   "metadata": {
    "tags": []
   },
   "outputs": [
    {
     "data": {
      "text/html": [
       "<div>\n",
       "<style scoped>\n",
       "    .dataframe tbody tr th:only-of-type {\n",
       "        vertical-align: middle;\n",
       "    }\n",
       "\n",
       "    .dataframe tbody tr th {\n",
       "        vertical-align: top;\n",
       "    }\n",
       "\n",
       "    .dataframe thead th {\n",
       "        text-align: right;\n",
       "    }\n",
       "</style>\n",
       "<table border=\"1\" class=\"dataframe\">\n",
       "  <thead>\n",
       "    <tr style=\"text-align: right;\">\n",
       "      <th></th>\n",
       "      <th>t1_author_id</th>\n",
       "      <th>t1_year</th>\n",
       "      <th>n_accusations</th>\n",
       "      <th>n_accusers</th>\n",
       "      <th>n_accusing</th>\n",
       "      <th>n_accusees</th>\n",
       "      <th>t1_author_botometer_raw_overall</th>\n",
       "    </tr>\n",
       "  </thead>\n",
       "  <tbody>\n",
       "    <tr>\n",
       "      <th>2641</th>\n",
       "      <td>4119446079</td>\n",
       "      <td>2019.0</td>\n",
       "      <td>6.0</td>\n",
       "      <td>6</td>\n",
       "      <td>4</td>\n",
       "      <td>3.0</td>\n",
       "      <td>0.83</td>\n",
       "    </tr>\n",
       "    <tr>\n",
       "      <th>10593</th>\n",
       "      <td>1518688291154976770</td>\n",
       "      <td>2022.0</td>\n",
       "      <td>2.0</td>\n",
       "      <td>2</td>\n",
       "      <td>1</td>\n",
       "      <td>NaN</td>\n",
       "      <td>0.39</td>\n",
       "    </tr>\n",
       "    <tr>\n",
       "      <th>1217</th>\n",
       "      <td>877217668754886656</td>\n",
       "      <td>2018.0</td>\n",
       "      <td>3.0</td>\n",
       "      <td>2</td>\n",
       "      <td>124</td>\n",
       "      <td>75.0</td>\n",
       "      <td>0.10</td>\n",
       "    </tr>\n",
       "    <tr>\n",
       "      <th>2359</th>\n",
       "      <td>27874367</td>\n",
       "      <td>2019.0</td>\n",
       "      <td>6.0</td>\n",
       "      <td>6</td>\n",
       "      <td>1</td>\n",
       "      <td>NaN</td>\n",
       "      <td>0.81</td>\n",
       "    </tr>\n",
       "    <tr>\n",
       "      <th>4803</th>\n",
       "      <td>251361217</td>\n",
       "      <td>2020.0</td>\n",
       "      <td>2.0</td>\n",
       "      <td>2</td>\n",
       "      <td>6</td>\n",
       "      <td>5.0</td>\n",
       "      <td>0.26</td>\n",
       "    </tr>\n",
       "  </tbody>\n",
       "</table>\n",
       "</div>"
      ],
      "text/plain": [
       "              t1_author_id  t1_year  n_accusations  n_accusers  n_accusing  \\\n",
       "2641            4119446079   2019.0            6.0           6           4   \n",
       "10593  1518688291154976770   2022.0            2.0           2           1   \n",
       "1217    877217668754886656   2018.0            3.0           2         124   \n",
       "2359              27874367   2019.0            6.0           6           1   \n",
       "4803             251361217   2020.0            2.0           2           6   \n",
       "\n",
       "       n_accusees  t1_author_botometer_raw_overall  \n",
       "2641          3.0                             0.83  \n",
       "10593         NaN                             0.39  \n",
       "1217         75.0                             0.10  \n",
       "2359          NaN                             0.81  \n",
       "4803          5.0                             0.26  "
      ]
     },
     "execution_count": 24,
     "metadata": {},
     "output_type": "execute_result"
    }
   ],
   "source": [
    "botometer_dataset.head()"
   ]
  },
  {
   "cell_type": "code",
   "execution_count": 25,
   "id": "c18bc946-53cf-4ea0-86e7-c49db029cb4e",
   "metadata": {
    "tags": []
   },
   "outputs": [],
   "source": [
    "botometer_dataset.to_pickle('_botometer/sample_botometer_dataset.pkl')"
   ]
  },
  {
   "cell_type": "markdown",
   "id": "22f742a4-94f2-4859-b5ab-328b1053814e",
   "metadata": {},
   "source": [
    "#### cluster_t1"
   ]
  },
  {
   "cell_type": "code",
   "execution_count": 26,
   "id": "86671579-b348-4886-a1ab-e063e18fd004",
   "metadata": {
    "tags": []
   },
   "outputs": [],
   "source": [
    "cluster_t1 = pd.read_pickle('_cluster_t1/t1_id_cluster.pkl')"
   ]
  },
  {
   "cell_type": "code",
   "execution_count": 27,
   "id": "1de35e47-6f41-4aa7-96e1-63dba87ab719",
   "metadata": {
    "tags": []
   },
   "outputs": [
    {
     "data": {
      "text/plain": [
       "763930"
      ]
     },
     "execution_count": 27,
     "metadata": {},
     "output_type": "execute_result"
    }
   ],
   "source": [
    "len(cluster_t1)"
   ]
  },
  {
   "cell_type": "code",
   "execution_count": 28,
   "id": "c5609f9a-41c4-4acc-b5bf-41468679d25b",
   "metadata": {
    "tags": []
   },
   "outputs": [
    {
     "data": {
      "text/plain": [
       "Index(['t1_id', 'cluster'], dtype='object')"
      ]
     },
     "execution_count": 28,
     "metadata": {},
     "output_type": "execute_result"
    }
   ],
   "source": [
    "cluster_t1.columns"
   ]
  },
  {
   "cell_type": "code",
   "execution_count": 29,
   "id": "82b67dbd-5629-49de-8626-8264390c8141",
   "metadata": {
    "tags": []
   },
   "outputs": [],
   "source": [
    "cluster_t1 = cluster_t1.sample(100, random_state=1)"
   ]
  },
  {
   "cell_type": "code",
   "execution_count": 30,
   "id": "0dbcc405-1c4b-4e0b-840e-b92ca8c660e7",
   "metadata": {
    "tags": []
   },
   "outputs": [
    {
     "data": {
      "text/html": [
       "<div>\n",
       "<style scoped>\n",
       "    .dataframe tbody tr th:only-of-type {\n",
       "        vertical-align: middle;\n",
       "    }\n",
       "\n",
       "    .dataframe tbody tr th {\n",
       "        vertical-align: top;\n",
       "    }\n",
       "\n",
       "    .dataframe thead th {\n",
       "        text-align: right;\n",
       "    }\n",
       "</style>\n",
       "<table border=\"1\" class=\"dataframe\">\n",
       "  <thead>\n",
       "    <tr style=\"text-align: right;\">\n",
       "      <th></th>\n",
       "      <th>t1_id</th>\n",
       "      <th>cluster</th>\n",
       "    </tr>\n",
       "  </thead>\n",
       "  <tbody>\n",
       "    <tr>\n",
       "      <th>387482</th>\n",
       "      <td>1418847135190200321</td>\n",
       "      <td>None</td>\n",
       "    </tr>\n",
       "    <tr>\n",
       "      <th>210823</th>\n",
       "      <td>1382275270837690370</td>\n",
       "      <td>62</td>\n",
       "    </tr>\n",
       "    <tr>\n",
       "      <th>118035</th>\n",
       "      <td>1363755039014158336</td>\n",
       "      <td>None</td>\n",
       "    </tr>\n",
       "    <tr>\n",
       "      <th>439515</th>\n",
       "      <td>1427077468008062981</td>\n",
       "      <td>None</td>\n",
       "    </tr>\n",
       "    <tr>\n",
       "      <th>459574</th>\n",
       "      <td>1429970222409265154</td>\n",
       "      <td>None</td>\n",
       "    </tr>\n",
       "  </tbody>\n",
       "</table>\n",
       "</div>"
      ],
      "text/plain": [
       "                      t1_id cluster\n",
       "387482  1418847135190200321    None\n",
       "210823  1382275270837690370      62\n",
       "118035  1363755039014158336    None\n",
       "439515  1427077468008062981    None\n",
       "459574  1429970222409265154    None"
      ]
     },
     "execution_count": 30,
     "metadata": {},
     "output_type": "execute_result"
    }
   ],
   "source": [
    "cluster_t1.head()"
   ]
  },
  {
   "cell_type": "code",
   "execution_count": 31,
   "id": "5548a4c4-3816-4be6-9253-2494b88c9e58",
   "metadata": {
    "tags": []
   },
   "outputs": [],
   "source": [
    "cluster_t1.to_pickle('_cluster_t1/sample_t1_id_cluster.pkl')"
   ]
  },
  {
   "cell_type": "markdown",
   "id": "5425bd1d-2780-45ce-bbe9-dbbd51f7b8a6",
   "metadata": {},
   "source": [
    "#### model development"
   ]
  },
  {
   "cell_type": "markdown",
   "id": "933dc11d-a160-4b5a-9f4d-f1d89e7e02ca",
   "metadata": {},
   "source": [
    "##### test"
   ]
  },
  {
   "cell_type": "code",
   "execution_count": 32,
   "id": "e9d93ea0-129d-4bab-a074-850c62c2bde3",
   "metadata": {
    "tags": []
   },
   "outputs": [],
   "source": [
    "test_set = pd.read_csv('_model_development/annotations_test.csv')"
   ]
  },
  {
   "cell_type": "code",
   "execution_count": 33,
   "id": "a1b3490d-bac0-4c02-95d7-1d01682c9dfb",
   "metadata": {
    "tags": []
   },
   "outputs": [
    {
     "data": {
      "text/plain": [
       "193"
      ]
     },
     "execution_count": 33,
     "metadata": {},
     "output_type": "execute_result"
    }
   ],
   "source": [
    "len(test_set)"
   ]
  },
  {
   "cell_type": "code",
   "execution_count": 34,
   "id": "5ddebe3e-59a2-4d5d-8174-460bade2afee",
   "metadata": {
    "tags": []
   },
   "outputs": [
    {
     "data": {
      "text/plain": [
       "Index(['ID', 'text', 'label'], dtype='object')"
      ]
     },
     "execution_count": 34,
     "metadata": {},
     "output_type": "execute_result"
    }
   ],
   "source": [
    "test_set.columns"
   ]
  },
  {
   "cell_type": "code",
   "execution_count": 35,
   "id": "2d8acdc0-10da-4c80-b512-73e6368f0d54",
   "metadata": {
    "tags": []
   },
   "outputs": [],
   "source": [
    "test_set = test_set.sample(100, random_state=1)\n",
    "test_set = test_set[['ID','label']]"
   ]
  },
  {
   "cell_type": "code",
   "execution_count": 36,
   "id": "a9ae59dc-40e6-40d2-b92a-933561d118e1",
   "metadata": {
    "tags": []
   },
   "outputs": [
    {
     "data": {
      "text/html": [
       "<div>\n",
       "<style scoped>\n",
       "    .dataframe tbody tr th:only-of-type {\n",
       "        vertical-align: middle;\n",
       "    }\n",
       "\n",
       "    .dataframe tbody tr th {\n",
       "        vertical-align: top;\n",
       "    }\n",
       "\n",
       "    .dataframe thead th {\n",
       "        text-align: right;\n",
       "    }\n",
       "</style>\n",
       "<table border=\"1\" class=\"dataframe\">\n",
       "  <thead>\n",
       "    <tr style=\"text-align: right;\">\n",
       "      <th></th>\n",
       "      <th>ID</th>\n",
       "      <th>label</th>\n",
       "    </tr>\n",
       "  </thead>\n",
       "  <tbody>\n",
       "    <tr>\n",
       "      <th>44</th>\n",
       "      <td>716689492023771136</td>\n",
       "      <td>0</td>\n",
       "    </tr>\n",
       "    <tr>\n",
       "      <th>69</th>\n",
       "      <td>1471809061310001157</td>\n",
       "      <td>2</td>\n",
       "    </tr>\n",
       "    <tr>\n",
       "      <th>162</th>\n",
       "      <td>589124105166790656</td>\n",
       "      <td>1</td>\n",
       "    </tr>\n",
       "    <tr>\n",
       "      <th>35</th>\n",
       "      <td>1565273232894296064</td>\n",
       "      <td>1</td>\n",
       "    </tr>\n",
       "    <tr>\n",
       "      <th>183</th>\n",
       "      <td>413826156308094976</td>\n",
       "      <td>1</td>\n",
       "    </tr>\n",
       "  </tbody>\n",
       "</table>\n",
       "</div>"
      ],
      "text/plain": [
       "                      ID  label\n",
       "44    716689492023771136      0\n",
       "69   1471809061310001157      2\n",
       "162   589124105166790656      1\n",
       "35   1565273232894296064      1\n",
       "183   413826156308094976      1"
      ]
     },
     "execution_count": 36,
     "metadata": {},
     "output_type": "execute_result"
    }
   ],
   "source": [
    "test_set.head()"
   ]
  },
  {
   "cell_type": "code",
   "execution_count": 37,
   "id": "6f3645b4-fd40-49c5-93e4-59ae44774d62",
   "metadata": {
    "tags": []
   },
   "outputs": [],
   "source": [
    "test_set.to_csv('_model_development/sample_annotations_test.csv')"
   ]
  },
  {
   "cell_type": "markdown",
   "id": "702bc234-ccdc-4ed6-8cdb-7ea2b155f98e",
   "metadata": {},
   "source": [
    "##### train"
   ]
  },
  {
   "cell_type": "code",
   "execution_count": 38,
   "id": "4ff47968-e200-4a65-91a2-3fd98c865d95",
   "metadata": {
    "tags": []
   },
   "outputs": [],
   "source": [
    "train_set = pd.read_csv('_model_development/annotations_train.csv')"
   ]
  },
  {
   "cell_type": "code",
   "execution_count": 39,
   "id": "16894666-cdf4-4963-8eba-6b5e26b483ef",
   "metadata": {
    "tags": []
   },
   "outputs": [
    {
     "data": {
      "text/plain": [
       "1903"
      ]
     },
     "execution_count": 39,
     "metadata": {},
     "output_type": "execute_result"
    }
   ],
   "source": [
    "len(train_set)"
   ]
  },
  {
   "cell_type": "code",
   "execution_count": 40,
   "id": "61aa2c16-a0da-40c6-9375-9e2ae2b5c74b",
   "metadata": {
    "tags": []
   },
   "outputs": [
    {
     "data": {
      "text/plain": [
       "Index(['ID', 'text', 'label'], dtype='object')"
      ]
     },
     "execution_count": 40,
     "metadata": {},
     "output_type": "execute_result"
    }
   ],
   "source": [
    "train_set.columns"
   ]
  },
  {
   "cell_type": "code",
   "execution_count": 41,
   "id": "b6b8938b-ee52-41b2-8b47-94fdf3b0e034",
   "metadata": {
    "tags": []
   },
   "outputs": [],
   "source": [
    "train_set = train_set.sample(100, random_state=1)\n",
    "train_set = train_set[['ID','label']]"
   ]
  },
  {
   "cell_type": "code",
   "execution_count": 42,
   "id": "2372da57-2c9f-42c7-b39d-3b0e1c481d2c",
   "metadata": {
    "tags": []
   },
   "outputs": [
    {
     "data": {
      "text/html": [
       "<div>\n",
       "<style scoped>\n",
       "    .dataframe tbody tr th:only-of-type {\n",
       "        vertical-align: middle;\n",
       "    }\n",
       "\n",
       "    .dataframe tbody tr th {\n",
       "        vertical-align: top;\n",
       "    }\n",
       "\n",
       "    .dataframe thead th {\n",
       "        text-align: right;\n",
       "    }\n",
       "</style>\n",
       "<table border=\"1\" class=\"dataframe\">\n",
       "  <thead>\n",
       "    <tr style=\"text-align: right;\">\n",
       "      <th></th>\n",
       "      <th>ID</th>\n",
       "      <th>label</th>\n",
       "    </tr>\n",
       "  </thead>\n",
       "  <tbody>\n",
       "    <tr>\n",
       "      <th>1006</th>\n",
       "      <td>1332151660601253888</td>\n",
       "      <td>1</td>\n",
       "    </tr>\n",
       "    <tr>\n",
       "      <th>137</th>\n",
       "      <td>1535026154255556610</td>\n",
       "      <td>2</td>\n",
       "    </tr>\n",
       "    <tr>\n",
       "      <th>285</th>\n",
       "      <td>668503054686130177</td>\n",
       "      <td>0</td>\n",
       "    </tr>\n",
       "    <tr>\n",
       "      <th>1379</th>\n",
       "      <td>1493645360752906241</td>\n",
       "      <td>1</td>\n",
       "    </tr>\n",
       "    <tr>\n",
       "      <th>1721</th>\n",
       "      <td>1553482631529971713</td>\n",
       "      <td>0</td>\n",
       "    </tr>\n",
       "  </tbody>\n",
       "</table>\n",
       "</div>"
      ],
      "text/plain": [
       "                       ID  label\n",
       "1006  1332151660601253888      1\n",
       "137   1535026154255556610      2\n",
       "285    668503054686130177      0\n",
       "1379  1493645360752906241      1\n",
       "1721  1553482631529971713      0"
      ]
     },
     "execution_count": 42,
     "metadata": {},
     "output_type": "execute_result"
    }
   ],
   "source": [
    "train_set.head()"
   ]
  },
  {
   "cell_type": "code",
   "execution_count": 43,
   "id": "e3188f99-9691-48c5-9182-e86b83218bc0",
   "metadata": {
    "tags": []
   },
   "outputs": [],
   "source": [
    "train_set.to_csv('_model_development/sample_annotations_train.csv')"
   ]
  },
  {
   "cell_type": "markdown",
   "id": "f41295fb-5756-47f1-9d9d-453286abf80c",
   "metadata": {},
   "source": [
    "##### disaggregated test"
   ]
  },
  {
   "cell_type": "code",
   "execution_count": 44,
   "id": "0f93f0e0-ff5d-46bd-b99f-1d47dcac7a55",
   "metadata": {
    "tags": []
   },
   "outputs": [],
   "source": [
    "dtest_set = pd.read_csv('_model_development/disaggregated_test.csv')"
   ]
  },
  {
   "cell_type": "code",
   "execution_count": 45,
   "id": "03b4e430-8307-4af6-a474-fb2ce9cf63e5",
   "metadata": {
    "tags": []
   },
   "outputs": [
    {
     "data": {
      "text/plain": [
       "193"
      ]
     },
     "execution_count": 45,
     "metadata": {},
     "output_type": "execute_result"
    }
   ],
   "source": [
    "len(dtest_set)"
   ]
  },
  {
   "cell_type": "code",
   "execution_count": 46,
   "id": "fd173a48-f2d3-4d1c-9c31-569c4581d58f",
   "metadata": {
    "tags": []
   },
   "outputs": [
    {
     "data": {
      "text/plain": [
       "Index(['ID', 'Text', 'Annotator_1', 'Annotator_2', 'Label'], dtype='object')"
      ]
     },
     "execution_count": 46,
     "metadata": {},
     "output_type": "execute_result"
    }
   ],
   "source": [
    "dtest_set.columns"
   ]
  },
  {
   "cell_type": "code",
   "execution_count": 47,
   "id": "0f379438-02cf-476b-80f3-3da4a9b2b796",
   "metadata": {
    "tags": []
   },
   "outputs": [],
   "source": [
    "dtest_set = dtest_set.sample(100, random_state=1)\n",
    "dtest_set = dtest_set[['ID','Annotator_1','Annotator_2','Label']]"
   ]
  },
  {
   "cell_type": "code",
   "execution_count": 48,
   "id": "d3b14d81-c5fb-43cc-9ac1-f90fb4baca0d",
   "metadata": {
    "tags": []
   },
   "outputs": [
    {
     "data": {
      "text/html": [
       "<div>\n",
       "<style scoped>\n",
       "    .dataframe tbody tr th:only-of-type {\n",
       "        vertical-align: middle;\n",
       "    }\n",
       "\n",
       "    .dataframe tbody tr th {\n",
       "        vertical-align: top;\n",
       "    }\n",
       "\n",
       "    .dataframe thead th {\n",
       "        text-align: right;\n",
       "    }\n",
       "</style>\n",
       "<table border=\"1\" class=\"dataframe\">\n",
       "  <thead>\n",
       "    <tr style=\"text-align: right;\">\n",
       "      <th></th>\n",
       "      <th>ID</th>\n",
       "      <th>Annotator_1</th>\n",
       "      <th>Annotator_2</th>\n",
       "      <th>Label</th>\n",
       "    </tr>\n",
       "  </thead>\n",
       "  <tbody>\n",
       "    <tr>\n",
       "      <th>44</th>\n",
       "      <td>716689492023771136</td>\n",
       "      <td>no accusation</td>\n",
       "      <td>accusation</td>\n",
       "      <td>no accusation</td>\n",
       "    </tr>\n",
       "    <tr>\n",
       "      <th>69</th>\n",
       "      <td>1471809061310001157</td>\n",
       "      <td>no accusation</td>\n",
       "      <td>unclear</td>\n",
       "      <td>unclear</td>\n",
       "    </tr>\n",
       "    <tr>\n",
       "      <th>162</th>\n",
       "      <td>589124105166790656</td>\n",
       "      <td>accusation</td>\n",
       "      <td>accusation</td>\n",
       "      <td>accusation</td>\n",
       "    </tr>\n",
       "    <tr>\n",
       "      <th>35</th>\n",
       "      <td>1565273232894296064</td>\n",
       "      <td>accusation</td>\n",
       "      <td>accusation</td>\n",
       "      <td>accusation</td>\n",
       "    </tr>\n",
       "    <tr>\n",
       "      <th>183</th>\n",
       "      <td>413826156308094976</td>\n",
       "      <td>no accusation</td>\n",
       "      <td>accusation</td>\n",
       "      <td>accusation</td>\n",
       "    </tr>\n",
       "  </tbody>\n",
       "</table>\n",
       "</div>"
      ],
      "text/plain": [
       "                      ID    Annotator_1 Annotator_2          Label\n",
       "44    716689492023771136  no accusation  accusation  no accusation\n",
       "69   1471809061310001157  no accusation     unclear        unclear\n",
       "162   589124105166790656     accusation  accusation     accusation\n",
       "35   1565273232894296064     accusation  accusation     accusation\n",
       "183   413826156308094976  no accusation  accusation     accusation"
      ]
     },
     "execution_count": 48,
     "metadata": {},
     "output_type": "execute_result"
    }
   ],
   "source": [
    "dtest_set.head()"
   ]
  },
  {
   "cell_type": "code",
   "execution_count": 49,
   "id": "a8f09a08-7a19-4a04-99eb-b1b018ace5b0",
   "metadata": {
    "tags": []
   },
   "outputs": [],
   "source": [
    "dtest_set.to_csv('_model_development/sample_disaggregated_test.csv')"
   ]
  },
  {
   "cell_type": "markdown",
   "id": "facf1c7e-e724-4f2d-bc31-7d29dc23f1e6",
   "metadata": {},
   "source": [
    "#### polarization"
   ]
  },
  {
   "cell_type": "code",
   "execution_count": 50,
   "id": "433145e7-5901-49ae-a11f-6d0079e02d41",
   "metadata": {
    "tags": []
   },
   "outputs": [],
   "source": [
    "pd_polarization = pd.read_pickle('_polarization/pd_polarization.pkl')"
   ]
  },
  {
   "cell_type": "code",
   "execution_count": 51,
   "id": "63bdb9bb-9c85-4f19-9e50-f8ad3e992d5b",
   "metadata": {
    "tags": []
   },
   "outputs": [
    {
     "data": {
      "text/plain": [
       "1286"
      ]
     },
     "execution_count": 51,
     "metadata": {},
     "output_type": "execute_result"
    }
   ],
   "source": [
    "len(pd_polarization)"
   ]
  },
  {
   "cell_type": "code",
   "execution_count": 52,
   "id": "421b7c70-4729-407c-b825-e5fa82594e18",
   "metadata": {
    "tags": []
   },
   "outputs": [
    {
     "data": {
      "text/plain": [
       "Index(['t1_id', 't2_id', 't1_author_id', 't2_author_id', 't1_text_cleaned',\n",
       "       't2_text_cleaned', 't1_year', 't2_year', 't1_author_country',\n",
       "       't2_author_country', 't1_author_polarization', 't2_author_polarization',\n",
       "       'cluster'],\n",
       "      dtype='object')"
      ]
     },
     "execution_count": 52,
     "metadata": {},
     "output_type": "execute_result"
    }
   ],
   "source": [
    "pd_polarization.columns"
   ]
  },
  {
   "cell_type": "code",
   "execution_count": 53,
   "id": "60beceb8-8728-4904-8dcb-cfc814b46142",
   "metadata": {
    "tags": []
   },
   "outputs": [],
   "source": [
    "pd_polarization = pd_polarization.sample(100, random_state=1)\n",
    "pd_polarization = pd_polarization[['t1_id','t2_id','t1_author_id','t2_author_id','t1_year','t2_year','t1_author_country','t2_author_country','t1_author_polarization','t2_author_polarization']]"
   ]
  },
  {
   "cell_type": "code",
   "execution_count": 54,
   "id": "0489d59e-986e-408c-8326-326415c684e5",
   "metadata": {
    "tags": []
   },
   "outputs": [
    {
     "data": {
      "text/html": [
       "<div>\n",
       "<style scoped>\n",
       "    .dataframe tbody tr th:only-of-type {\n",
       "        vertical-align: middle;\n",
       "    }\n",
       "\n",
       "    .dataframe tbody tr th {\n",
       "        vertical-align: top;\n",
       "    }\n",
       "\n",
       "    .dataframe thead th {\n",
       "        text-align: right;\n",
       "    }\n",
       "</style>\n",
       "<table border=\"1\" class=\"dataframe\">\n",
       "  <thead>\n",
       "    <tr style=\"text-align: right;\">\n",
       "      <th></th>\n",
       "      <th>t1_id</th>\n",
       "      <th>t2_id</th>\n",
       "      <th>t1_author_id</th>\n",
       "      <th>t2_author_id</th>\n",
       "      <th>t1_year</th>\n",
       "      <th>t2_year</th>\n",
       "      <th>t1_author_country</th>\n",
       "      <th>t2_author_country</th>\n",
       "      <th>t1_author_polarization</th>\n",
       "      <th>t2_author_polarization</th>\n",
       "    </tr>\n",
       "  </thead>\n",
       "  <tbody>\n",
       "    <tr>\n",
       "      <th>900</th>\n",
       "      <td>1253020497303961603</td>\n",
       "      <td>1253021624556797955</td>\n",
       "      <td>1044923978</td>\n",
       "      <td>78696113</td>\n",
       "      <td>2020.0</td>\n",
       "      <td>2020</td>\n",
       "      <td>United States</td>\n",
       "      <td>United States</td>\n",
       "      <td>1.00</td>\n",
       "      <td>-2.03</td>\n",
       "    </tr>\n",
       "    <tr>\n",
       "      <th>867</th>\n",
       "      <td>900893907088814080</td>\n",
       "      <td>900929458584117249</td>\n",
       "      <td>1228478348</td>\n",
       "      <td>69467866</td>\n",
       "      <td>2017.0</td>\n",
       "      <td>2017</td>\n",
       "      <td>United States</td>\n",
       "      <td>United States</td>\n",
       "      <td>0.84</td>\n",
       "      <td>-1.53</td>\n",
       "    </tr>\n",
       "    <tr>\n",
       "      <th>1023</th>\n",
       "      <td>968271614994296832</td>\n",
       "      <td>968291387019022336</td>\n",
       "      <td>2863445600</td>\n",
       "      <td>38442614</td>\n",
       "      <td>2018.0</td>\n",
       "      <td>2018</td>\n",
       "      <td>United States</td>\n",
       "      <td>United States</td>\n",
       "      <td>-2.01</td>\n",
       "      <td>-2.55</td>\n",
       "    </tr>\n",
       "    <tr>\n",
       "      <th>1185</th>\n",
       "      <td>1581425756323733504</td>\n",
       "      <td>1582374479920914434</td>\n",
       "      <td>199400192</td>\n",
       "      <td>811031645759238144</td>\n",
       "      <td>2022.0</td>\n",
       "      <td>2022</td>\n",
       "      <td>United States</td>\n",
       "      <td>United States</td>\n",
       "      <td>-2.26</td>\n",
       "      <td>0.79</td>\n",
       "    </tr>\n",
       "    <tr>\n",
       "      <th>952</th>\n",
       "      <td>1179874763809771520</td>\n",
       "      <td>1181020207617335302</td>\n",
       "      <td>24549263</td>\n",
       "      <td>356325729</td>\n",
       "      <td>2019.0</td>\n",
       "      <td>2019</td>\n",
       "      <td>United States</td>\n",
       "      <td>United States</td>\n",
       "      <td>2.13</td>\n",
       "      <td>-2.02</td>\n",
       "    </tr>\n",
       "  </tbody>\n",
       "</table>\n",
       "</div>"
      ],
      "text/plain": [
       "                    t1_id                t2_id t1_author_id  \\\n",
       "900   1253020497303961603  1253021624556797955   1044923978   \n",
       "867    900893907088814080   900929458584117249   1228478348   \n",
       "1023   968271614994296832   968291387019022336   2863445600   \n",
       "1185  1581425756323733504  1582374479920914434    199400192   \n",
       "952   1179874763809771520  1181020207617335302     24549263   \n",
       "\n",
       "            t2_author_id  t1_year  t2_year t1_author_country  \\\n",
       "900             78696113   2020.0     2020     United States   \n",
       "867             69467866   2017.0     2017     United States   \n",
       "1023            38442614   2018.0     2018     United States   \n",
       "1185  811031645759238144   2022.0     2022     United States   \n",
       "952            356325729   2019.0     2019     United States   \n",
       "\n",
       "     t2_author_country  t1_author_polarization  t2_author_polarization  \n",
       "900      United States                    1.00                   -2.03  \n",
       "867      United States                    0.84                   -1.53  \n",
       "1023     United States                   -2.01                   -2.55  \n",
       "1185     United States                   -2.26                    0.79  \n",
       "952      United States                    2.13                   -2.02  "
      ]
     },
     "execution_count": 54,
     "metadata": {},
     "output_type": "execute_result"
    }
   ],
   "source": [
    "pd_polarization.head()"
   ]
  },
  {
   "cell_type": "code",
   "execution_count": 55,
   "id": "b75a9989-a765-4a8c-91d1-20a324943556",
   "metadata": {
    "tags": []
   },
   "outputs": [],
   "source": [
    "pd_polarization.to_pickle('_polarization/sample_pd_polarization.pkl')"
   ]
  },
  {
   "cell_type": "markdown",
   "id": "e137bbf5-8740-47ff-b0a5-3d4455802226",
   "metadata": {},
   "source": [
    "#### toxicity"
   ]
  },
  {
   "cell_type": "markdown",
   "id": "1274c7c7-ace1-41c4-b2e8-7731de50c307",
   "metadata": {},
   "source": [
    "##### benchmark toxicity"
   ]
  },
  {
   "cell_type": "code",
   "execution_count": 56,
   "id": "93d487e1-df7a-4cbf-99c1-0937ba2df976",
   "metadata": {
    "tags": []
   },
   "outputs": [],
   "source": [
    "pd_benchmark = pd.read_pickle('_toxicity/benchmark_toxicity.pkl')"
   ]
  },
  {
   "cell_type": "code",
   "execution_count": 57,
   "id": "d647a74c-fb18-4b87-a1f6-ccc1dce9d3fc",
   "metadata": {},
   "outputs": [
    {
     "data": {
      "text/plain": [
       "274296"
      ]
     },
     "execution_count": 57,
     "metadata": {},
     "output_type": "execute_result"
    }
   ],
   "source": [
    "len(pd_benchmark)"
   ]
  },
  {
   "cell_type": "code",
   "execution_count": 58,
   "id": "a583ddec-4256-43e5-b2f2-252def5989da",
   "metadata": {
    "tags": []
   },
   "outputs": [
    {
     "data": {
      "text/plain": [
       "Index(['t1_author_id', 't2_author_id', 't1_id', 't2_id', 't1_year', 't2_year',\n",
       "       't1_text_cleaned', 't2_text_cleaned', 't1_detoxify_toxicity',\n",
       "       't2_detoxify_toxicity'],\n",
       "      dtype='object')"
      ]
     },
     "execution_count": 58,
     "metadata": {},
     "output_type": "execute_result"
    }
   ],
   "source": [
    "pd_benchmark.columns"
   ]
  },
  {
   "cell_type": "code",
   "execution_count": 59,
   "id": "3630cb94-57c4-411d-9ea6-eb504c58b620",
   "metadata": {
    "tags": []
   },
   "outputs": [],
   "source": [
    "pd_benchmark = pd_benchmark.sample(100, random_state=1)\n",
    "pd_benchmark = pd_benchmark[['t1_id','t2_id','t1_author_id','t2_author_id','t1_year','t2_year','t1_detoxify_toxicity','t2_detoxify_toxicity']]"
   ]
  },
  {
   "cell_type": "code",
   "execution_count": 60,
   "id": "50267519-4771-4e2c-be8a-fc025e99f6e6",
   "metadata": {
    "tags": []
   },
   "outputs": [
    {
     "data": {
      "text/html": [
       "<div>\n",
       "<style scoped>\n",
       "    .dataframe tbody tr th:only-of-type {\n",
       "        vertical-align: middle;\n",
       "    }\n",
       "\n",
       "    .dataframe tbody tr th {\n",
       "        vertical-align: top;\n",
       "    }\n",
       "\n",
       "    .dataframe thead th {\n",
       "        text-align: right;\n",
       "    }\n",
       "</style>\n",
       "<table border=\"1\" class=\"dataframe\">\n",
       "  <thead>\n",
       "    <tr style=\"text-align: right;\">\n",
       "      <th></th>\n",
       "      <th>t1_id</th>\n",
       "      <th>t2_id</th>\n",
       "      <th>t1_author_id</th>\n",
       "      <th>t2_author_id</th>\n",
       "      <th>t1_year</th>\n",
       "      <th>t2_year</th>\n",
       "      <th>t1_detoxify_toxicity</th>\n",
       "      <th>t2_detoxify_toxicity</th>\n",
       "    </tr>\n",
       "  </thead>\n",
       "  <tbody>\n",
       "    <tr>\n",
       "      <th>218982</th>\n",
       "      <td>None</td>\n",
       "      <td>1206182032918896640</td>\n",
       "      <td>None</td>\n",
       "      <td>28350888</td>\n",
       "      <td>NaN</td>\n",
       "      <td>2019</td>\n",
       "      <td>NaN</td>\n",
       "      <td>0.000741</td>\n",
       "    </tr>\n",
       "    <tr>\n",
       "      <th>119123</th>\n",
       "      <td>466970856661745664</td>\n",
       "      <td>466971224325636096</td>\n",
       "      <td>120332229</td>\n",
       "      <td>14127332</td>\n",
       "      <td>2014.0</td>\n",
       "      <td>2014</td>\n",
       "      <td>0.000586</td>\n",
       "      <td>0.000534</td>\n",
       "    </tr>\n",
       "    <tr>\n",
       "      <th>90518</th>\n",
       "      <td>257873248145002496</td>\n",
       "      <td>257873408543555584</td>\n",
       "      <td>242151184</td>\n",
       "      <td>319415545</td>\n",
       "      <td>2012.0</td>\n",
       "      <td>2012</td>\n",
       "      <td>0.002954</td>\n",
       "      <td>0.001111</td>\n",
       "    </tr>\n",
       "    <tr>\n",
       "      <th>103281</th>\n",
       "      <td>None</td>\n",
       "      <td>345994107002433536</td>\n",
       "      <td>None</td>\n",
       "      <td>1513612963</td>\n",
       "      <td>NaN</td>\n",
       "      <td>2013</td>\n",
       "      <td>NaN</td>\n",
       "      <td>0.000626</td>\n",
       "    </tr>\n",
       "    <tr>\n",
       "      <th>54816</th>\n",
       "      <td>None</td>\n",
       "      <td>27460270435</td>\n",
       "      <td>None</td>\n",
       "      <td>201480224</td>\n",
       "      <td>NaN</td>\n",
       "      <td>2010</td>\n",
       "      <td>NaN</td>\n",
       "      <td>0.796262</td>\n",
       "    </tr>\n",
       "  </tbody>\n",
       "</table>\n",
       "</div>"
      ],
      "text/plain": [
       "                     t1_id                t2_id t1_author_id t2_author_id  \\\n",
       "218982                None  1206182032918896640         None     28350888   \n",
       "119123  466970856661745664   466971224325636096    120332229     14127332   \n",
       "90518   257873248145002496   257873408543555584    242151184    319415545   \n",
       "103281                None   345994107002433536         None   1513612963   \n",
       "54816                 None          27460270435         None    201480224   \n",
       "\n",
       "        t1_year  t2_year t1_detoxify_toxicity  t2_detoxify_toxicity  \n",
       "218982      NaN     2019                  NaN              0.000741  \n",
       "119123   2014.0     2014             0.000586              0.000534  \n",
       "90518    2012.0     2012             0.002954              0.001111  \n",
       "103281      NaN     2013                  NaN              0.000626  \n",
       "54816       NaN     2010                  NaN              0.796262  "
      ]
     },
     "execution_count": 60,
     "metadata": {},
     "output_type": "execute_result"
    }
   ],
   "source": [
    "pd_benchmark.head()"
   ]
  },
  {
   "cell_type": "code",
   "execution_count": 61,
   "id": "654670d3-8386-4f30-bd6d-9d3a9babaeb3",
   "metadata": {
    "tags": []
   },
   "outputs": [],
   "source": [
    "pd_benchmark.to_pickle('_toxicity/sample_benchmark_toxicity.pkl')"
   ]
  },
  {
   "cell_type": "markdown",
   "id": "b731fa9d-2cb2-48aa-8952-fd13974097a7",
   "metadata": {},
   "source": [
    "validation sample"
   ]
  },
  {
   "cell_type": "code",
   "execution_count": 62,
   "id": "7c1e727b-1378-437d-945e-30cd01f10213",
   "metadata": {
    "tags": []
   },
   "outputs": [],
   "source": [
    "tox_val = pd.read_csv('_toxicity/detoxify_validation_scored.csv', index_col=0)"
   ]
  },
  {
   "cell_type": "code",
   "execution_count": 63,
   "id": "a8ddcba2-c269-489f-85c9-dd6b40d55e3d",
   "metadata": {
    "tags": []
   },
   "outputs": [
    {
     "data": {
      "text/plain": [
       "100"
      ]
     },
     "execution_count": 63,
     "metadata": {},
     "output_type": "execute_result"
    }
   ],
   "source": [
    "len(tox_val)"
   ]
  },
  {
   "cell_type": "code",
   "execution_count": 64,
   "id": "1d25363d-7683-40ea-b97a-54c7cf01473f",
   "metadata": {
    "tags": []
   },
   "outputs": [
    {
     "data": {
      "text/plain": [
       "Index(['ID', 'Text', 'Label_e1', 'Label_e2', 'agreement', 'score_detoxify'], dtype='object')"
      ]
     },
     "execution_count": 64,
     "metadata": {},
     "output_type": "execute_result"
    }
   ],
   "source": [
    "tox_val.columns"
   ]
  },
  {
   "cell_type": "code",
   "execution_count": 65,
   "id": "59f75fe2-e637-459d-83c9-fc1c400a2798",
   "metadata": {
    "tags": []
   },
   "outputs": [],
   "source": [
    "tox_val = tox_val.sample(100)\n",
    "tox_val = tox_val[['ID','Label_e1','Label_e2','score_detoxify']]"
   ]
  },
  {
   "cell_type": "code",
   "execution_count": 66,
   "id": "0bb83b7f-2caf-45a6-b685-8ff941696583",
   "metadata": {
    "tags": []
   },
   "outputs": [
    {
     "data": {
      "text/html": [
       "<div>\n",
       "<style scoped>\n",
       "    .dataframe tbody tr th:only-of-type {\n",
       "        vertical-align: middle;\n",
       "    }\n",
       "\n",
       "    .dataframe tbody tr th {\n",
       "        vertical-align: top;\n",
       "    }\n",
       "\n",
       "    .dataframe thead th {\n",
       "        text-align: right;\n",
       "    }\n",
       "</style>\n",
       "<table border=\"1\" class=\"dataframe\">\n",
       "  <thead>\n",
       "    <tr style=\"text-align: right;\">\n",
       "      <th></th>\n",
       "      <th>ID</th>\n",
       "      <th>Label_e1</th>\n",
       "      <th>Label_e2</th>\n",
       "      <th>score_detoxify</th>\n",
       "    </tr>\n",
       "  </thead>\n",
       "  <tbody>\n",
       "    <tr>\n",
       "      <th>1</th>\n",
       "      <td>537475453796089856</td>\n",
       "      <td>toxic</td>\n",
       "      <td>not toxic</td>\n",
       "      <td>0.985619</td>\n",
       "    </tr>\n",
       "    <tr>\n",
       "      <th>95</th>\n",
       "      <td>1606335415061024780</td>\n",
       "      <td>not toxic</td>\n",
       "      <td>not toxic</td>\n",
       "      <td>0.002222</td>\n",
       "    </tr>\n",
       "    <tr>\n",
       "      <th>98</th>\n",
       "      <td>1477683093922267137</td>\n",
       "      <td>not toxic</td>\n",
       "      <td>not toxic</td>\n",
       "      <td>0.001077</td>\n",
       "    </tr>\n",
       "    <tr>\n",
       "      <th>56</th>\n",
       "      <td>1554654890810646528</td>\n",
       "      <td>not toxic</td>\n",
       "      <td>not toxic</td>\n",
       "      <td>0.003446</td>\n",
       "    </tr>\n",
       "    <tr>\n",
       "      <th>6</th>\n",
       "      <td>1490901528848535556</td>\n",
       "      <td>toxic</td>\n",
       "      <td>toxic</td>\n",
       "      <td>0.413614</td>\n",
       "    </tr>\n",
       "  </tbody>\n",
       "</table>\n",
       "</div>"
      ],
      "text/plain": [
       "                     ID   Label_e1   Label_e2  score_detoxify\n",
       "1    537475453796089856      toxic  not toxic        0.985619\n",
       "95  1606335415061024780  not toxic  not toxic        0.002222\n",
       "98  1477683093922267137  not toxic  not toxic        0.001077\n",
       "56  1554654890810646528  not toxic  not toxic        0.003446\n",
       "6   1490901528848535556      toxic      toxic        0.413614"
      ]
     },
     "execution_count": 66,
     "metadata": {},
     "output_type": "execute_result"
    }
   ],
   "source": [
    "tox_val.head()"
   ]
  },
  {
   "cell_type": "code",
   "execution_count": 67,
   "id": "7e077bab-19fb-4f74-8d2a-098f99e41f4d",
   "metadata": {
    "tags": []
   },
   "outputs": [],
   "source": [
    "tox_val.to_csv('_toxicity/sample_detoxify_validation_scored.csv')"
   ]
  }
 ],
 "metadata": {
  "kernelspec": {
   "display_name": "Python 3 (ipykernel)",
   "language": "python",
   "name": "python3"
  },
  "language_info": {
   "codemirror_mode": {
    "name": "ipython",
    "version": 3
   },
   "file_extension": ".py",
   "mimetype": "text/x-python",
   "name": "python",
   "nbconvert_exporter": "python",
   "pygments_lexer": "ipython3",
   "version": "3.11.7"
  }
 },
 "nbformat": 4,
 "nbformat_minor": 5
}
