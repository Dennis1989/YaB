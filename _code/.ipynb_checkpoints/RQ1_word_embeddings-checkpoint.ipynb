{
 "cells": [
  {
   "cell_type": "code",
   "execution_count": 1,
   "id": "372e2553-92bc-45f1-9e1e-87a8bfdb4e13",
   "metadata": {
    "tags": []
   },
   "outputs": [],
   "source": [
    "import os\n",
    "import pandas as pd\n",
    "\n",
    "new_path = os.path.split(os.getcwd())[0]\n",
    "\n",
    "from gensim.test.utils import common_texts\n",
    "from gensim.models import Word2Vec\n",
    "from gensim.utils import tokenize\n",
    "from gensim.parsing.preprocessing import remove_stopwords\n",
    "from nltk.corpus import stopwords\n",
    "from contextlib import redirect_stdout"
   ]
  },
  {
   "cell_type": "markdown",
   "id": "f2f7ae44-4109-4600-8fb1-f04bc1510797",
   "metadata": {},
   "source": [
    "### word embeddings over time"
   ]
  },
  {
   "cell_type": "code",
   "execution_count": 2,
   "id": "4214cb36-7a35-499d-8526-2c6d18e33e26",
   "metadata": {
    "tags": []
   },
   "outputs": [],
   "source": [
    "bot_general = pd.read_pickle(os.path.join(new_path,'_data','bot_general.pkl'))"
   ]
  },
  {
   "cell_type": "code",
   "execution_count": 3,
   "id": "8abab00d-f6c7-4ce1-a152-ab27fa85ccdc",
   "metadata": {
    "tags": []
   },
   "outputs": [],
   "source": [
    "datetime_t2 =pd.to_datetime(bot_general['t2_datetime'])\n",
    "bot_general['year'] = datetime_t2.dt.year\n",
    "\n",
    "for i in range(9): # aggregate all tweets from 2007 to 2016 into a single class\n",
    "    bot_general['year'] = bot_general['year'].replace(2007+i, 2016)"
   ]
  },
  {
   "cell_type": "markdown",
   "id": "2f966f4d-4514-4637-a258-27781daec91a",
   "metadata": {},
   "source": [
    "train 3 word embeddings per year; extract most similar tokens to term 'bot'"
   ]
  },
  {
   "cell_type": "code",
   "execution_count": 4,
   "id": "f290d0ce-066e-4694-8530-2a62c3c515d0",
   "metadata": {
    "tags": []
   },
   "outputs": [
    {
     "name": "stdout",
     "output_type": "stream",
     "text": [
      "2016 run: 1 - model saved\n",
      "2016 run: 2 - model saved\n",
      "2016 run: 3 - model saved\n",
      "['user', 'guy', 'machine', 'tool', 'acct', 'script', 'database', 'software', 'comments', 'company', 'person']\n",
      "2017 run: 1 - model saved\n",
      "2017 run: 2 - model saved\n",
      "2017 run: 3 - model saved\n",
      "['moron', 'account', 'paid', 'troll', 'tool', 'idiot', 'real', 'human', 'product', 'person', 'probably']\n",
      "2018 run: 1 - model saved\n",
      "2018 run: 2 - model saved\n",
      "2018 run: 3 - model saved\n",
      "['moron', 'account', 'paid', 'troll', 'tool', 'supporter', 'idiot', 'fool', 'human', 'russian', 'shill', 'product', 'person', 'joke', 'probably']\n",
      "2019 run: 1 - model saved\n",
      "2019 run: 2 - model saved\n",
      "2019 run: 3 - model saved\n",
      "['moron', 'account', 'troll', 'tool', 'supporter', 'idiot', 'fool', 'product', 'human', 'parody', 'asset', 'russian', 'probably', 'person', 'joke', 'trumpster', 'caricature']\n",
      "2020 run: 1 - model saved\n",
      "2020 run: 2 - model saved\n",
      "2020 run: 3 - model saved\n",
      "['user', 'foreigner', 'moron', 'hacker', 'teenager', 'troll', 'tool', 'supporter', 'idiot', 'trumper', 'fool', 'human', 'parody', 'russian', 'probably', 'person', 'joke']\n",
      "2021 run: 1 - model saved\n",
      "2021 run: 2 - model saved\n",
      "2021 run: 3 - model saved\n",
      "['chinese', 'moron', 'paid', 'account', 'troll', 'tool', 'idiot', 'fool', 'real', 'human', 'parody', 'definitely', 'russian', 'shill', 'probably', 'person', 'joke', 'caricature']\n",
      "2022 run: 1 - model saved\n",
      "2022 run: 2 - model saved\n",
      "2022 run: 3 - model saved\n",
      "['paid', 'idiot', 'parody', 'shill', 'person', 'joke', 'chinese', 'foreigner', 'operative', 'teenager', 'moron', 'account', 'probably', 'satire', 'caricature', 'propagandist', 'troll', 'simpleton', 'fool']\n"
     ]
    }
   ],
   "source": [
    "for year in [2016, 2017, 2018, 2019, 2020, 2021, 2022]:\n",
    "    subset = bot_general[bot_general['year']==year]\n",
    "    train_data = [list(tokenize(x.lower())) for x in subset['t2_text_processed']]\n",
    "    erg = []\n",
    "    for i in range(3):\n",
    "        model = None\n",
    "        model = Word2Vec(vector_size=200, window=5, min_count=3, workers=20, sg=0)\n",
    "        model.build_vocab(train_data)\n",
    "        model.train(train_data, total_examples=model.corpus_count, epochs=10)\n",
    "        model.save(os.path.join(new_path,'_model','w2v_models',f'w2vmodel_{year}_run_{i+1}.model'))\n",
    "        print(f'{year} run: {i+1} - model saved')\n",
    "        erg.append([x[0] for x in model.wv.most_similar(positive=['bot'], topn=30) if x[0] not in stopwords.words()])\n",
    "    print(list(set(erg[0]) & set(erg[1])& set(erg[2])))"
   ]
  },
  {
   "cell_type": "markdown",
   "id": "a915e41c-1cba-489b-bacd-8c70231e4e65",
   "metadata": {},
   "source": [
    "collect results"
   ]
  },
  {
   "cell_type": "code",
   "execution_count": 5,
   "id": "b0641009-136d-4d81-95e7-27ed6f397928",
   "metadata": {
    "tags": []
   },
   "outputs": [],
   "source": [
    "results = {}\n",
    "\n",
    "years = [2016, 2017, 2018, 2019, 2020, 2021, 2022]\n",
    "for year in years:\n",
    "    erg = []\n",
    "    for i in range(3):\n",
    "        model = Word2Vec.load(os.path.join(new_path,'_model','w2v_models',f'w2vmodel_{year}_run_{i+1}.model'))\n",
    "        erg.append([x[0] for x in model.wv.most_similar(positive=['bot'], topn=30) if x[0] not in stopwords.words()])\n",
    "    results[year]=list(set(erg[0]) & set(erg[1])& set(erg[2]))"
   ]
  },
  {
   "cell_type": "code",
   "execution_count": 6,
   "id": "459ed3f9-5bd3-4f06-a775-c4e847f84e87",
   "metadata": {
    "tags": []
   },
   "outputs": [
    {
     "name": "stdout",
     "output_type": "stream",
     "text": [
      "{2016: ['user', 'guy', 'program', 'machine', 'software', 'script', 'hashtags', 'acct', 'database', 'comments', 'person'], 2017: ['moron', 'account', 'paid', 'troll', 'tool', 'entity', 'idiot', 'real', 'human', 'probably', 'person'], 2018: ['writer', 'moron', 'account', 'paid', 'troll', 'tool', 'entity', 'idiot', 'supporter', 'fool', 'human', 'dolt', 'russian', 'shill', 'probably', 'person', 'joke'], 2019: ['idiot', 'parody', 'person', 'joke', 'tool', 'asset', 'moron', 'robot', 'account', 'human', 'probably', 'caricature', 'troll', 'supporter', 'fool', 'definitely', 'russian', 'product', 'stooge'], 2020: ['user', 'robot', 'foreigner', 'moron', 'teenager', 'troll', 'tool', 'supporter', 'idiot', 'trumper', 'fool', 'human', 'parody', 'russian', 'probably', 'person', 'joke'], 2021: ['paid', 'idiot', 'real', 'parody', 'shill', 'person', 'joke', 'chinese', 'foreigner', 'tool', 'moron', 'robot', 'account', 'human', 'probably', 'troll', 'fool', 'definitely', 'russian'], 2022: ['idiot', 'parody', 'shill', 'person', 'joke', 'chinese', 'foreigner', 'operative', 'teenager', 'moron', 'robot', 'account', 'liar', 'probably', 'satire', 'propagandist', 'troll', 'simpleton', 'fool']}\n"
     ]
    }
   ],
   "source": [
    "print(results)"
   ]
  },
  {
   "cell_type": "markdown",
   "id": "a70fd990-211d-442f-8055-39dbeee0e6f9",
   "metadata": {},
   "source": [
    "generate latex-table from results"
   ]
  },
  {
   "cell_type": "code",
   "execution_count": 7,
   "id": "e2dc48b0-de11-4917-a5e0-6f7ea85d93ff",
   "metadata": {
    "tags": []
   },
   "outputs": [
    {
     "name": "stdout",
     "output_type": "stream",
     "text": [
      "\\begin{table}[]\n",
      "\\caption{Nearest embedding vectors to the term \textit{bot} over the years. We highlight terms associated with mechanics for automation in blue and dehumanizing/insulting/political terms in red.}\\begin{tabular}{ll}\n",
      "\n",
      "2007-2016&user, guy, {\\color{blue}\\colorbox{blue!20}{\\vphantom{pd}program}}, {\\color{blue}\\colorbox{blue!20}{\\vphantom{pd}machine}}, {\\color{blue}\\colorbox{blue!20}{\\vphantom{pd}software}}, \\\\ \n",
      "2007-2016&user, guy, {\\color{blue}\\colorbox{blue!20}{\\vphantom{pd}program}}, {\\color{blue}\\colorbox{blue!20}{\\vphantom{pd}machine}}, {\\color{blue}\\colorbox{blue!20}{\\vphantom{pd}software}}, {\\color{blue}\\colorbox{blue!20}{\\vphantom{pd}script}}, {\\color{blue}\\colorbox{blue!20}{\\vphantom{pd}hashtags}}, {\\color{blue}\\colorbox{blue!20}{\\vphantom{pd}acct}}, database, {\\color{blue}\\colorbox{blue!20}{\\vphantom{pd}comments}}, person,  \\\\ \n",
      " \\hline2017&{\\color{red}\\colorbox{pink}{\\vphantom{pd}moron}}, {\\color{blue}\\colorbox{blue!20}{\\vphantom{pd}account}}, paid, troll, tool, \\\\ \n",
      "2017&{\\color{red}\\colorbox{pink}{\\vphantom{pd}moron}}, {\\color{blue}\\colorbox{blue!20}{\\vphantom{pd}account}}, paid, troll, tool, entity, {\\color{red}\\colorbox{pink}{\\vphantom{pd}idiot}}, real, human, probably, person,  \\\\ \n",
      " \\hline2018&writer, {\\color{red}\\colorbox{pink}{\\vphantom{pd}moron}}, {\\color{blue}\\colorbox{blue!20}{\\vphantom{pd}account}}, paid, troll, \\\\ \n",
      "2018&writer, {\\color{red}\\colorbox{pink}{\\vphantom{pd}moron}}, {\\color{blue}\\colorbox{blue!20}{\\vphantom{pd}account}}, paid, troll, tool, entity, {\\color{red}\\colorbox{pink}{\\vphantom{pd}idiot}}, {\\color{red}\\colorbox{pink}{\\vphantom{pd}supporter}}, {\\color{red}\\colorbox{pink}{\\vphantom{pd}fool}}, human, \\\\ \n",
      "2018&writer, {\\color{red}\\colorbox{pink}{\\vphantom{pd}moron}}, {\\color{blue}\\colorbox{blue!20}{\\vphantom{pd}account}}, paid, troll, \\\\ \n",
      "2018&writer, {\\color{red}\\colorbox{pink}{\\vphantom{pd}moron}}, {\\color{blue}\\colorbox{blue!20}{\\vphantom{pd}account}}, paid, troll, tool, entity, {\\color{red}\\colorbox{pink}{\\vphantom{pd}idiot}}, {\\color{red}\\colorbox{pink}{\\vphantom{pd}supporter}}, {\\color{red}\\colorbox{pink}{\\vphantom{pd}fool}}, human, {\\color{red}\\colorbox{pink}{\\vphantom{pd}dolt}}, {\\color{red}\\colorbox{pink}{\\vphantom{pd}russian}}, {\\color{red}\\colorbox{pink}{\\vphantom{pd}shill}}, probably, person, joke,  \\\\ \n",
      " \\hline2019&{\\color{red}\\colorbox{pink}{\\vphantom{pd}idiot}}, parody, person, joke, tool, \\\\ \n",
      "2019&{\\color{red}\\colorbox{pink}{\\vphantom{pd}idiot}}, parody, person, joke, tool, asset, {\\color{red}\\colorbox{pink}{\\vphantom{pd}moron}}, robot, {\\color{blue}\\colorbox{blue!20}{\\vphantom{pd}account}}, human, probably, \\\\ \n",
      "2019&{\\color{red}\\colorbox{pink}{\\vphantom{pd}idiot}}, parody, person, joke, tool, \\\\ \n",
      "2019&{\\color{red}\\colorbox{pink}{\\vphantom{pd}idiot}}, parody, person, joke, tool, asset, {\\color{red}\\colorbox{pink}{\\vphantom{pd}moron}}, robot, {\\color{blue}\\colorbox{blue!20}{\\vphantom{pd}account}}, human, probably, caricature, troll, {\\color{red}\\colorbox{pink}{\\vphantom{pd}supporter}}, {\\color{red}\\colorbox{pink}{\\vphantom{pd}fool}}, definitely, {\\color{red}\\colorbox{pink}{\\vphantom{pd}russian}}, \\\\ \n",
      "2019&{\\color{red}\\colorbox{pink}{\\vphantom{pd}idiot}}, parody, person, joke, tool, \\\\ \n",
      "2019&{\\color{red}\\colorbox{pink}{\\vphantom{pd}idiot}}, parody, person, joke, tool, asset, {\\color{red}\\colorbox{pink}{\\vphantom{pd}moron}}, robot, {\\color{blue}\\colorbox{blue!20}{\\vphantom{pd}account}}, human, probably, \\\\ \n",
      "2019&{\\color{red}\\colorbox{pink}{\\vphantom{pd}idiot}}, parody, person, joke, tool, \\\\ \n",
      "2019&{\\color{red}\\colorbox{pink}{\\vphantom{pd}idiot}}, parody, person, joke, tool, asset, {\\color{red}\\colorbox{pink}{\\vphantom{pd}moron}}, robot, {\\color{blue}\\colorbox{blue!20}{\\vphantom{pd}account}}, human, probably, caricature, troll, {\\color{red}\\colorbox{pink}{\\vphantom{pd}supporter}}, {\\color{red}\\colorbox{pink}{\\vphantom{pd}fool}}, definitely, {\\color{red}\\colorbox{pink}{\\vphantom{pd}russian}}, product, {\\color{red}\\colorbox{pink}{\\vphantom{pd}stooge}},  \\\\ \n",
      " \\hline2020&user, robot, {\\color{red}\\colorbox{pink}{\\vphantom{pd}foreigner}}, {\\color{red}\\colorbox{pink}{\\vphantom{pd}moron}}, teenager, \\\\ \n",
      "2020&user, robot, {\\color{red}\\colorbox{pink}{\\vphantom{pd}foreigner}}, {\\color{red}\\colorbox{pink}{\\vphantom{pd}moron}}, teenager, troll, tool, {\\color{red}\\colorbox{pink}{\\vphantom{pd}supporter}}, {\\color{red}\\colorbox{pink}{\\vphantom{pd}idiot}}, {\\color{red}\\colorbox{pink}{\\vphantom{pd}trumper}}, {\\color{red}\\colorbox{pink}{\\vphantom{pd}fool}}, \\\\ \n",
      "2020&user, robot, {\\color{red}\\colorbox{pink}{\\vphantom{pd}foreigner}}, {\\color{red}\\colorbox{pink}{\\vphantom{pd}moron}}, teenager, \\\\ \n",
      "2020&user, robot, {\\color{red}\\colorbox{pink}{\\vphantom{pd}foreigner}}, {\\color{red}\\colorbox{pink}{\\vphantom{pd}moron}}, teenager, troll, tool, {\\color{red}\\colorbox{pink}{\\vphantom{pd}supporter}}, {\\color{red}\\colorbox{pink}{\\vphantom{pd}idiot}}, {\\color{red}\\colorbox{pink}{\\vphantom{pd}trumper}}, {\\color{red}\\colorbox{pink}{\\vphantom{pd}fool}}, human, parody, {\\color{red}\\colorbox{pink}{\\vphantom{pd}russian}}, probably, person, joke,  \\\\ \n",
      " \\hline2021&paid, {\\color{red}\\colorbox{pink}{\\vphantom{pd}idiot}}, real, parody, {\\color{red}\\colorbox{pink}{\\vphantom{pd}shill}}, \\\\ \n",
      "2021&paid, {\\color{red}\\colorbox{pink}{\\vphantom{pd}idiot}}, real, parody, {\\color{red}\\colorbox{pink}{\\vphantom{pd}shill}}, person, joke, {\\color{red}\\colorbox{pink}{\\vphantom{pd}chinese}}, {\\color{red}\\colorbox{pink}{\\vphantom{pd}foreigner}}, tool, {\\color{red}\\colorbox{pink}{\\vphantom{pd}moron}}, \\\\ \n",
      "2021&paid, {\\color{red}\\colorbox{pink}{\\vphantom{pd}idiot}}, real, parody, {\\color{red}\\colorbox{pink}{\\vphantom{pd}shill}}, \\\\ \n",
      "2021&paid, {\\color{red}\\colorbox{pink}{\\vphantom{pd}idiot}}, real, parody, {\\color{red}\\colorbox{pink}{\\vphantom{pd}shill}}, person, joke, {\\color{red}\\colorbox{pink}{\\vphantom{pd}chinese}}, {\\color{red}\\colorbox{pink}{\\vphantom{pd}foreigner}}, tool, {\\color{red}\\colorbox{pink}{\\vphantom{pd}moron}}, robot, {\\color{blue}\\colorbox{blue!20}{\\vphantom{pd}account}}, human, probably, troll, {\\color{red}\\colorbox{pink}{\\vphantom{pd}fool}}, \\\\ \n",
      "2021&paid, {\\color{red}\\colorbox{pink}{\\vphantom{pd}idiot}}, real, parody, {\\color{red}\\colorbox{pink}{\\vphantom{pd}shill}}, \\\\ \n",
      "2021&paid, {\\color{red}\\colorbox{pink}{\\vphantom{pd}idiot}}, real, parody, {\\color{red}\\colorbox{pink}{\\vphantom{pd}shill}}, person, joke, {\\color{red}\\colorbox{pink}{\\vphantom{pd}chinese}}, {\\color{red}\\colorbox{pink}{\\vphantom{pd}foreigner}}, tool, {\\color{red}\\colorbox{pink}{\\vphantom{pd}moron}}, \\\\ \n",
      "2021&paid, {\\color{red}\\colorbox{pink}{\\vphantom{pd}idiot}}, real, parody, {\\color{red}\\colorbox{pink}{\\vphantom{pd}shill}}, \\\\ \n",
      "2021&paid, {\\color{red}\\colorbox{pink}{\\vphantom{pd}idiot}}, real, parody, {\\color{red}\\colorbox{pink}{\\vphantom{pd}shill}}, person, joke, {\\color{red}\\colorbox{pink}{\\vphantom{pd}chinese}}, {\\color{red}\\colorbox{pink}{\\vphantom{pd}foreigner}}, tool, {\\color{red}\\colorbox{pink}{\\vphantom{pd}moron}}, robot, {\\color{blue}\\colorbox{blue!20}{\\vphantom{pd}account}}, human, probably, troll, {\\color{red}\\colorbox{pink}{\\vphantom{pd}fool}}, definitely, {\\color{red}\\colorbox{pink}{\\vphantom{pd}russian}},  \\\\ \n",
      " \\hline2022&{\\color{red}\\colorbox{pink}{\\vphantom{pd}idiot}}, parody, {\\color{red}\\colorbox{pink}{\\vphantom{pd}shill}}, person, joke, \\\\ \n",
      "2022&{\\color{red}\\colorbox{pink}{\\vphantom{pd}idiot}}, parody, {\\color{red}\\colorbox{pink}{\\vphantom{pd}shill}}, person, joke, {\\color{red}\\colorbox{pink}{\\vphantom{pd}chinese}}, {\\color{red}\\colorbox{pink}{\\vphantom{pd}foreigner}}, operative, teenager, {\\color{red}\\colorbox{pink}{\\vphantom{pd}moron}}, robot, \\\\ \n",
      "2022&{\\color{red}\\colorbox{pink}{\\vphantom{pd}idiot}}, parody, {\\color{red}\\colorbox{pink}{\\vphantom{pd}shill}}, person, joke, \\\\ \n",
      "2022&{\\color{red}\\colorbox{pink}{\\vphantom{pd}idiot}}, parody, {\\color{red}\\colorbox{pink}{\\vphantom{pd}shill}}, person, joke, {\\color{red}\\colorbox{pink}{\\vphantom{pd}chinese}}, {\\color{red}\\colorbox{pink}{\\vphantom{pd}foreigner}}, operative, teenager, {\\color{red}\\colorbox{pink}{\\vphantom{pd}moron}}, robot, {\\color{blue}\\colorbox{blue!20}{\\vphantom{pd}account}}, liar, probably, satire, {\\color{red}\\colorbox{pink}{\\vphantom{pd}propagandist}}, troll, \\\\ \n",
      "2022&{\\color{red}\\colorbox{pink}{\\vphantom{pd}idiot}}, parody, {\\color{red}\\colorbox{pink}{\\vphantom{pd}shill}}, person, joke, \\\\ \n",
      "2022&{\\color{red}\\colorbox{pink}{\\vphantom{pd}idiot}}, parody, {\\color{red}\\colorbox{pink}{\\vphantom{pd}shill}}, person, joke, {\\color{red}\\colorbox{pink}{\\vphantom{pd}chinese}}, {\\color{red}\\colorbox{pink}{\\vphantom{pd}foreigner}}, operative, teenager, {\\color{red}\\colorbox{pink}{\\vphantom{pd}moron}}, robot, \\\\ \n",
      "2022&{\\color{red}\\colorbox{pink}{\\vphantom{pd}idiot}}, parody, {\\color{red}\\colorbox{pink}{\\vphantom{pd}shill}}, person, joke, \\\\ \n",
      "2022&{\\color{red}\\colorbox{pink}{\\vphantom{pd}idiot}}, parody, {\\color{red}\\colorbox{pink}{\\vphantom{pd}shill}}, person, joke, {\\color{red}\\colorbox{pink}{\\vphantom{pd}chinese}}, {\\color{red}\\colorbox{pink}{\\vphantom{pd}foreigner}}, operative, teenager, {\\color{red}\\colorbox{pink}{\\vphantom{pd}moron}}, robot, {\\color{blue}\\colorbox{blue!20}{\\vphantom{pd}account}}, liar, probably, satire, {\\color{red}\\colorbox{pink}{\\vphantom{pd}propagandist}}, troll, {\\color{red}\\colorbox{pink}{\\vphantom{pd}simpleton}}, {\\color{red}\\colorbox{pink}{\\vphantom{pd}fool}},  \\\\ \n",
      " \\hline\\end{tabular}\n",
      "\\label{fig:embeddings}\n",
      "\\end{table}\n"
     ]
    }
   ],
   "source": [
    "political_terms = ['software', 'program', 'account','acct','comments','script','machine','hashtags']\n",
    "dehum_terms = ['moron','stupid', 'idiot','shill','dolt','fool','foreigner','russian', 'trumper','supporter','chinese','simpleton','stooge','propagandist']\n",
    "\n",
    "## now we create the table\n",
    "table_string = '\\\\begin{table}[]\\n\\\n",
    "\\\\caption{Nearest embedding vectors to the term \\textit{bot} over the years. We highlight terms associated with mechanics for automation in blue and dehumanizing/insulting/political terms in red.}\\\n",
    "\\\\begin{tabular}{ll}\\n\\\n",
    "\\n'\n",
    "\n",
    "for year in results.keys():\n",
    "\n",
    "    row_year  = '2007-2016&' if year==2016 else str(year)+'&'\n",
    "    row_terms = ''\n",
    "    for idx, x in enumerate(results[year]):\n",
    "        #\n",
    "        if (idx+1) % 6 == 0:\n",
    "            row_year+='\\\\\\ \\n'+row_year\n",
    "        if x not in political_terms and x not in dehum_terms:\n",
    "            row_year+=x+', '\n",
    "        if x in dehum_terms:\n",
    "            row_year+='{\\\\color{red}\\\\colorbox{pink}{\\\\vphantom{pd}'+x+'}}, '\n",
    "        if x in political_terms:\n",
    "            row_year+='{\\\\color{blue}\\\\colorbox{blue!20}{\\\\vphantom{pd}'+x+'}}, '\n",
    "        \n",
    "    row_terms=row_terms + ' \\\\\\ \\n \\hline' \n",
    "\n",
    "    row = row_year + row_terms\n",
    "    table_string+=row\n",
    "\n",
    "table_string+='\\end{tabular}\\n\\\n",
    "\\label{fig:embeddings}\\n\\\n",
    "\\end{table}'\n",
    "print(table_string)\n",
    "\n",
    "with open(os.path.join(new_path,'_results','tab2_embeddings.txt'), 'w') as f:\n",
    "    with redirect_stdout(f):\n",
    "        print(table_string)"
   ]
  }
 ],
 "metadata": {
  "kernelspec": {
   "display_name": "Python 3 (ipykernel)",
   "language": "python",
   "name": "python3"
  },
  "language_info": {
   "codemirror_mode": {
    "name": "ipython",
    "version": 3
   },
   "file_extension": ".py",
   "mimetype": "text/x-python",
   "name": "python",
   "nbconvert_exporter": "python",
   "pygments_lexer": "ipython3",
   "version": "3.11.7"
  }
 },
 "nbformat": 4,
 "nbformat_minor": 5
}
