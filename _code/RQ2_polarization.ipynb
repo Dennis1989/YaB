{
 "cells": [
  {
   "cell_type": "code",
   "execution_count": null,
   "id": "47ec72c3-5c14-4365-88e4-8ecca3cd79fe",
   "metadata": {},
   "outputs": [],
   "source": [
    "!pip install sentence_transformers"
   ]
  },
  {
   "cell_type": "code",
   "execution_count": 1,
   "id": "1190231c-1047-4610-8a1b-61d81e9b4610",
   "metadata": {
    "tags": []
   },
   "outputs": [],
   "source": [
    "import os\n",
    "import pandas as pd\n",
    "\n",
    "new_path = os.path.split(os.getcwd())[0]\n",
    "\n",
    "import json\n",
    "from sentence_transformers import SentenceTransformer, util\n",
    "import numpy as np\n",
    "from sklearn.feature_extraction.text import CountVectorizer\n",
    "import matplotlib.pyplot as plt"
   ]
  },
  {
   "cell_type": "markdown",
   "id": "66cf1aab-c6c0-4416-b556-0fe00536c330",
   "metadata": {},
   "source": [
    "load and filter data"
   ]
  },
  {
   "cell_type": "code",
   "execution_count": 2,
   "id": "7a4e20c6-50fc-40b3-9c73-e138ebe3120f",
   "metadata": {
    "tags": []
   },
   "outputs": [
    {
     "data": {
      "text/plain": [
       "309107"
      ]
     },
     "execution_count": 2,
     "metadata": {},
     "output_type": "execute_result"
    }
   ],
   "source": [
    "bot_direct = pd.read_pickle(os.path.join(new_path,'_data','bot_direct.pkl'))\n",
    "len(bot_direct)"
   ]
  },
  {
   "cell_type": "code",
   "execution_count": 3,
   "id": "376e1acf-027d-4979-8557-501980180a80",
   "metadata": {
    "tags": []
   },
   "outputs": [
    {
     "data": {
      "text/plain": [
       "76855"
      ]
     },
     "execution_count": 3,
     "metadata": {},
     "output_type": "execute_result"
    }
   ],
   "source": [
    "bot_direct = bot_direct[(~bot_direct['t1_author_location'].isnull())&(~bot_direct['t2_author_location'].isnull())]\n",
    "len(bot_direct)"
   ]
  },
  {
   "cell_type": "code",
   "execution_count": 4,
   "id": "b6ede0b4-278d-4005-be88-d0287deff8a3",
   "metadata": {
    "tags": []
   },
   "outputs": [
    {
     "data": {
      "text/plain": [
       "71321"
      ]
     },
     "execution_count": 4,
     "metadata": {},
     "output_type": "execute_result"
    }
   ],
   "source": [
    "bot_direct = bot_direct[bot_direct['t2_year']>2016]\n",
    "len(bot_direct)"
   ]
  },
  {
   "cell_type": "markdown",
   "id": "a0850cd9-a20c-4b24-af26-ec3a7d8a8e95",
   "metadata": {},
   "source": [
    "draw 10% random sample of tweets after 2016 where both users have location info available"
   ]
  },
  {
   "cell_type": "code",
   "execution_count": null,
   "id": "1d5927bb-b0be-4d1e-a650-8ac1da34f68f",
   "metadata": {},
   "outputs": [],
   "source": [
    "pd_sample = bot_direct.sample(int(len(bot_direct)/10))\n",
    "pd_sample = pd_sample[['t1_id','t2_id','t1_author_id','t2_author_id','t1_text_cleaned','t2_text_cleaned','t1_year','t2_year']]"
   ]
  },
  {
   "cell_type": "markdown",
   "id": "57a52d84-59e1-48c8-b00e-b457ae057692",
   "metadata": {},
   "source": [
    "load actual sample"
   ]
  },
  {
   "cell_type": "code",
   "execution_count": 5,
   "id": "b0831718-8dd4-459d-a644-2ff661b4f373",
   "metadata": {
    "tags": []
   },
   "outputs": [],
   "source": [
    "pd_sample = pd.read_pickle(os.path.join(new_path,'_data','_polarization','pd_sample.pkl'))"
   ]
  },
  {
   "cell_type": "code",
   "execution_count": 6,
   "id": "f9471690-c7f2-4682-8ca8-581c18f0a41f",
   "metadata": {
    "tags": []
   },
   "outputs": [
    {
     "data": {
      "text/plain": [
       "7131"
      ]
     },
     "execution_count": 6,
     "metadata": {},
     "output_type": "execute_result"
    }
   ],
   "source": [
    "len(pd_sample)"
   ]
  },
  {
   "cell_type": "markdown",
   "id": "933498ee-6a6c-4eb5-8465-9d4bfea8d496",
   "metadata": {},
   "source": [
    "augment with location info from googleplaces api"
   ]
  },
  {
   "cell_type": "code",
   "execution_count": 7,
   "id": "1aeacc4e-f31a-47ac-b423-a43f7a43c6b8",
   "metadata": {
    "tags": []
   },
   "outputs": [],
   "source": [
    "with open(os.path.join(new_path,'_data','_polarization','dict_location.json'), 'r') as f:\n",
    "    dict_location = json.load(f)"
   ]
  },
  {
   "cell_type": "code",
   "execution_count": 8,
   "id": "c66b6617-2e13-46c8-ae14-0f44c467bd15",
   "metadata": {
    "tags": []
   },
   "outputs": [],
   "source": [
    "pd_sample.loc[:,'t1_author_country'] = dict_location['t1_location']['country']\n",
    "pd_sample.loc[:,'t2_author_country'] = dict_location['t2_location']['country']"
   ]
  },
  {
   "cell_type": "markdown",
   "id": "6ae42851-75d2-4723-be65-41d2eeb20e31",
   "metadata": {},
   "source": [
    "retain only author-pairs from the us"
   ]
  },
  {
   "cell_type": "code",
   "execution_count": 9,
   "id": "9f5a0468-3659-48ab-a237-3a1064e93fe0",
   "metadata": {
    "tags": []
   },
   "outputs": [],
   "source": [
    "pd_sample_us = pd_sample[(pd_sample['t1_author_country']=='United States')&(pd_sample['t2_author_country']=='United States')]\n",
    "pd_sample_us = pd_sample_us.reset_index(drop=True)"
   ]
  },
  {
   "cell_type": "code",
   "execution_count": 10,
   "id": "26b7432f-75cf-4e4b-9d43-5a6da57db997",
   "metadata": {
    "tags": []
   },
   "outputs": [
    {
     "data": {
      "text/plain": [
       "2670"
      ]
     },
     "execution_count": 10,
     "metadata": {},
     "output_type": "execute_result"
    }
   ],
   "source": [
    "len(pd_sample_us)"
   ]
  },
  {
   "cell_type": "markdown",
   "id": "059d0a31-4658-4a36-a408-7310810365c2",
   "metadata": {},
   "source": [
    "augment with polarization scores from barbera-method"
   ]
  },
  {
   "cell_type": "code",
   "execution_count": 11,
   "id": "5711425b-7a1e-4e45-92a4-a18d0cadb3df",
   "metadata": {
    "tags": []
   },
   "outputs": [],
   "source": [
    "pd_results_t1 = pd.read_pickle(os.path.join(new_path,'_data','_polarization','pd_polarization_scores.pkl'))\n",
    "\n",
    "pd_results_t2 = pd_results_t1.copy()\n",
    "pd_results_t2.columns = ['t2_author_id', 't2_author_polarization']"
   ]
  },
  {
   "cell_type": "code",
   "execution_count": 12,
   "id": "acf9d72f-20b4-411f-b13d-5a354731ccbe",
   "metadata": {
    "tags": []
   },
   "outputs": [],
   "source": [
    "pd_polarization = pd_sample_us.merge(pd_results_t1, on='t1_author_id', how='left')\n",
    "pd_polarization = pd_polarization.merge(pd_results_t2, on='t2_author_id', how='left')\n",
    "\n",
    "pd_polarization = pd_polarization[(~pd_polarization['t1_author_polarization'].isnull())&(~pd_polarization['t2_author_polarization'].isnull())]\n",
    "pd_polarization = pd_polarization.reset_index(drop=True)"
   ]
  },
  {
   "cell_type": "code",
   "execution_count": 13,
   "id": "b1dcb5e3-2cbd-488f-b373-db6306122725",
   "metadata": {
    "tags": []
   },
   "outputs": [],
   "source": [
    "pd_polarization.to_pickle(os.path.join(new_path,'_data','_polarization','pd_polarization.pkl'))"
   ]
  },
  {
   "cell_type": "markdown",
   "id": "e7599cd3-147f-42a3-b4e0-10818f66a25b",
   "metadata": {},
   "source": [
    "find clusters of accusation contexts"
   ]
  },
  {
   "cell_type": "code",
   "execution_count": 14,
   "id": "96183746-57fd-442e-a843-2f9a98533570",
   "metadata": {
    "tags": []
   },
   "outputs": [],
   "source": [
    "model = SentenceTransformer('all-MiniLM-L6-v2')"
   ]
  },
  {
   "cell_type": "code",
   "execution_count": 15,
   "id": "208bcf2f-009a-47af-84ae-6b655872d3ee",
   "metadata": {
    "tags": []
   },
   "outputs": [],
   "source": [
    "tweets = pd_polarization.copy()\n",
    "tweets = tweets[~tweets['t1_text_cleaned'].isnull()]\n",
    "tweets = tweets.drop_duplicates('t1_id')\n",
    "\n",
    "tweets = tweets[['t2_id','t1_text_cleaned']]\n",
    "tweets['t1_text_final'] = [x.lower() for x in tweets['t1_text_cleaned']]\n",
    "tweets = tweets.reset_index(drop=True)\n",
    "\n",
    "corpus_tweets = list(tweets['t1_text_final'])"
   ]
  },
  {
   "cell_type": "markdown",
   "id": "1c35c24c-3252-4bc5-9fa4-8cb17908787c",
   "metadata": {},
   "source": [
    "encode tweets t1"
   ]
  },
  {
   "cell_type": "code",
   "execution_count": 16,
   "id": "e38238eb-02f2-472f-883a-53d539d813e6",
   "metadata": {
    "tags": []
   },
   "outputs": [
    {
     "data": {
      "application/vnd.jupyter.widget-view+json": {
       "model_id": "c70102f109d14d34ad17a1159db0b6d4",
       "version_major": 2,
       "version_minor": 0
      },
      "text/plain": [
       "Batches:   0%|          | 0/19 [00:00<?, ?it/s]"
      ]
     },
     "metadata": {},
     "output_type": "display_data"
    }
   ],
   "source": [
    "corpus_embeddings = model.encode(corpus_tweets, batch_size=64, show_progress_bar=True, convert_to_tensor=True)"
   ]
  },
  {
   "cell_type": "markdown",
   "id": "cde2dbf0-0d7a-4b3a-b7ae-ae2a570d88aa",
   "metadata": {},
   "source": [
    "find clusters"
   ]
  },
  {
   "cell_type": "code",
   "execution_count": 17,
   "id": "ef349434-816e-4034-9059-9949f2839b23",
   "metadata": {
    "tags": []
   },
   "outputs": [],
   "source": [
    "clusters = util.community_detection(corpus_embeddings, min_community_size=8, threshold=0.4)"
   ]
  },
  {
   "cell_type": "markdown",
   "id": "49a7db5b-0549-46b1-a391-589053c5642a",
   "metadata": {},
   "source": [
    "process results"
   ]
  },
  {
   "cell_type": "code",
   "execution_count": 18,
   "id": "925b0a8d-c5de-4087-9bd3-03c2069c5c0e",
   "metadata": {
    "tags": []
   },
   "outputs": [],
   "source": [
    "def c_tf_idf(documents, m, ngram_range=(1, 1)):\n",
    "    count = CountVectorizer(ngram_range=ngram_range, stop_words=\"english\").fit(documents)\n",
    "    t = count.transform(documents).toarray()\n",
    "    w = t.sum(axis=1)\n",
    "    tf = np.divide(t.T, w)\n",
    "    sum_t = t.sum(axis=0)\n",
    "    idf = np.log(np.divide(m, sum_t)).reshape(-1, 1)\n",
    "    tf_idf = np.multiply(tf, idf)\n",
    "    return tf_idf, count\n",
    "\n",
    "def extract_top_n_words_per_cluster(tf_idf, count, tweets_per_cluster, n=20):\n",
    "    words = count.get_feature_names_out()\n",
    "    labels = list(tweets_per_cluster['cluster'])\n",
    "    tf_idf_transposed = tf_idf.T\n",
    "    indices = tf_idf_transposed.argsort()[:, -n:]\n",
    "    top_n_words = {label: [(words[j], tf_idf_transposed[i][j]) for j in indices[i]][::-1] for i, label in enumerate(labels)}\n",
    "    return top_n_words\n",
    "\n",
    "def extract_cluster_sizes(df):\n",
    "    cluster_sizes = (df.groupby(['cluster'])['tweets'].count().reset_index().rename({'tweets': 'size'}, axis='columns').sort_values('size', ascending=False))\n",
    "    return cluster_sizes\n",
    "\n",
    "def create_representative_table(clusters, top_n_words):  \n",
    "    representative_table = pd.DataFrame({'cluster': [], 'text': []})\n",
    "    for i, cluster in enumerate(clusters):\n",
    "        for sentence_id in cluster[0:1]:\n",
    "            representative_table = pd.concat([representative_table,pd.DataFrame([\", \".join([x[0] for x in  top_n_words[i+1]][0:8])], columns=['text'])])\n",
    "    representative_table['cluster'] = range(1,len(clusters)+1)\n",
    "    return representative_table"
   ]
  },
  {
   "cell_type": "code",
   "execution_count": 19,
   "id": "eee54f11-3564-4a4d-8ecf-96d2f750bf7f",
   "metadata": {
    "tags": []
   },
   "outputs": [],
   "source": [
    "label = 1\n",
    "lst = [np.nan] * len(corpus_embeddings)\n",
    "for x in clusters:\n",
    "    for y in x:\n",
    "        lst[y] = label\n",
    "    label = label+1"
   ]
  },
  {
   "cell_type": "code",
   "execution_count": 20,
   "id": "f5e1331d-6466-4dec-ae08-39890db5710f",
   "metadata": {
    "tags": []
   },
   "outputs": [],
   "source": [
    "tweets_df = pd.DataFrame(corpus_tweets, columns=['tweets'])\n",
    "tweets_df['cluster'] = lst\n",
    "tweets_df['cluster_id'] = range(len(tweets_df))\n",
    "tweets_per_cluster = tweets_df.groupby(['cluster'], as_index = False).agg({'tweets': ' '.join})\n",
    "  \n",
    "tf_idf, count = c_tf_idf(tweets_per_cluster['tweets'].values, m=len(corpus_tweets))"
   ]
  },
  {
   "cell_type": "code",
   "execution_count": 21,
   "id": "70301de3-3bea-487a-b28f-2927659b5869",
   "metadata": {
    "tags": []
   },
   "outputs": [],
   "source": [
    "top_n_words = extract_top_n_words_per_cluster(tf_idf, count, tweets_per_cluster, n=20)\n",
    "cluster_sizes = extract_cluster_sizes(tweets_df)"
   ]
  },
  {
   "cell_type": "markdown",
   "id": "584636d2-5568-41a0-8f01-e9dd7e72d9a4",
   "metadata": {},
   "source": [
    "show significant tokens per cluster"
   ]
  },
  {
   "cell_type": "code",
   "execution_count": 22,
   "id": "bfb2ed4e-d7a8-4cc9-9e25-2c24dc127df7",
   "metadata": {
    "tags": []
   },
   "outputs": [
    {
     "data": {
      "text/html": [
       "<div>\n",
       "<style scoped>\n",
       "    .dataframe tbody tr th:only-of-type {\n",
       "        vertical-align: middle;\n",
       "    }\n",
       "\n",
       "    .dataframe tbody tr th {\n",
       "        vertical-align: top;\n",
       "    }\n",
       "\n",
       "    .dataframe thead th {\n",
       "        text-align: right;\n",
       "    }\n",
       "</style>\n",
       "<table border=\"1\" class=\"dataframe\">\n",
       "  <thead>\n",
       "    <tr style=\"text-align: right;\">\n",
       "      <th></th>\n",
       "      <th>cluster</th>\n",
       "      <th>text</th>\n",
       "    </tr>\n",
       "  </thead>\n",
       "  <tbody>\n",
       "    <tr>\n",
       "      <th>0</th>\n",
       "      <td>1</td>\n",
       "      <td>bot, bots, just, like, twitter, think, lol, ve</td>\n",
       "    </tr>\n",
       "    <tr>\n",
       "      <th>0</th>\n",
       "      <td>2</td>\n",
       "      <td>trump, biden, president, america, news, people...</td>\n",
       "    </tr>\n",
       "    <tr>\n",
       "      <th>0</th>\n",
       "      <td>3</td>\n",
       "      <td>obama, maga, president, did, years, just, demo...</td>\n",
       "    </tr>\n",
       "    <tr>\n",
       "      <th>0</th>\n",
       "      <td>4</td>\n",
       "      <td>exactly, uhh, yeah, lol, really, fault, father...</td>\n",
       "    </tr>\n",
       "    <tr>\n",
       "      <th>0</th>\n",
       "      <td>5</td>\n",
       "      <td>dems, democrats, news, trump, democrat, amp, w...</td>\n",
       "    </tr>\n",
       "    <tr>\n",
       "      <th>0</th>\n",
       "      <td>6</td>\n",
       "      <td>trump, president, schiff, herring, breaking, a...</td>\n",
       "    </tr>\n",
       "    <tr>\n",
       "      <th>0</th>\n",
       "      <td>7</td>\n",
       "      <td>president, best, jobs, lifetime, promises, ame...</td>\n",
       "    </tr>\n",
       "    <tr>\n",
       "      <th>0</th>\n",
       "      <td>8</td>\n",
       "      <td>masks, vaccinated, covid, virus, numbers, wear...</td>\n",
       "    </tr>\n",
       "    <tr>\n",
       "      <th>0</th>\n",
       "      <td>9</td>\n",
       "      <td>president, thank, trump, vote, elected, govt, ...</td>\n",
       "    </tr>\n",
       "    <tr>\n",
       "      <th>0</th>\n",
       "      <td>10</td>\n",
       "      <td>follow, followers, twitter, following, comment...</td>\n",
       "    </tr>\n",
       "    <tr>\n",
       "      <th>0</th>\n",
       "      <td>11</td>\n",
       "      <td>liar, hack, stinking, confused, betting, idiot...</td>\n",
       "    </tr>\n",
       "    <tr>\n",
       "      <th>0</th>\n",
       "      <td>12</td>\n",
       "      <td>proud, american, president, country, work, cel...</td>\n",
       "    </tr>\n",
       "    <tr>\n",
       "      <th>0</th>\n",
       "      <td>13</td>\n",
       "      <td>impeached, vindman, schiff, accusers, johnson,...</td>\n",
       "    </tr>\n",
       "    <tr>\n",
       "      <th>0</th>\n",
       "      <td>14</td>\n",
       "      <td>twitter, account, app, paid, things, look, twe...</td>\n",
       "    </tr>\n",
       "    <tr>\n",
       "      <th>0</th>\n",
       "      <td>15</td>\n",
       "      <td>biden, joe, disrespectful, troops, wants, call...</td>\n",
       "    </tr>\n",
       "    <tr>\n",
       "      <th>0</th>\n",
       "      <td>16</td>\n",
       "      <td>congress, policy, pelosi, don, wh, hillary, me...</td>\n",
       "    </tr>\n",
       "    <tr>\n",
       "      <th>0</th>\n",
       "      <td>17</td>\n",
       "      <td>vote, republican, party, deniers, anti, win, s...</td>\n",
       "    </tr>\n",
       "    <tr>\n",
       "      <th>0</th>\n",
       "      <td>18</td>\n",
       "      <td>non, fun, free, political, media, country, tim...</td>\n",
       "    </tr>\n",
       "    <tr>\n",
       "      <th>0</th>\n",
       "      <td>19</td>\n",
       "      <td>heard, better, hitlerycliton, ain, angelou, fa...</td>\n",
       "    </tr>\n",
       "    <tr>\n",
       "      <th>0</th>\n",
       "      <td>20</td>\n",
       "      <td>workers, better, minorities, dems, businesses,...</td>\n",
       "    </tr>\n",
       "    <tr>\n",
       "      <th>0</th>\n",
       "      <td>21</td>\n",
       "      <td>healthcare, care, health, costs, tax, unemploy...</td>\n",
       "    </tr>\n",
       "    <tr>\n",
       "      <th>0</th>\n",
       "      <td>22</td>\n",
       "      <td>liberal, russian, troll, bots, heartache, walk...</td>\n",
       "    </tr>\n",
       "    <tr>\n",
       "      <th>0</th>\n",
       "      <td>23</td>\n",
       "      <td>russian, trending, bots, block, like, twitter,...</td>\n",
       "    </tr>\n",
       "    <tr>\n",
       "      <th>0</th>\n",
       "      <td>24</td>\n",
       "      <td>removenunes, twitter, retweet, tweet, understa...</td>\n",
       "    </tr>\n",
       "    <tr>\n",
       "      <th>0</th>\n",
       "      <td>25</td>\n",
       "      <td>hillary, screw, fbi, wouldn, crimes, paid, bet...</td>\n",
       "    </tr>\n",
       "    <tr>\n",
       "      <th>0</th>\n",
       "      <td>26</td>\n",
       "      <td>fakenews, fake, news, inclined, liartrump, lms...</td>\n",
       "    </tr>\n",
       "    <tr>\n",
       "      <th>0</th>\n",
       "      <td>27</td>\n",
       "      <td>vote, abortions, wall, don, care, democrat, pa...</td>\n",
       "    </tr>\n",
       "    <tr>\n",
       "      <th>0</th>\n",
       "      <td>28</td>\n",
       "      <td>stutter, problem, joe, biden, years, decline, ...</td>\n",
       "    </tr>\n",
       "    <tr>\n",
       "      <th>0</th>\n",
       "      <td>29</td>\n",
       "      <td>free, kids, immigrant, want, parents, immigrat...</td>\n",
       "    </tr>\n",
       "    <tr>\n",
       "      <th>0</th>\n",
       "      <td>30</td>\n",
       "      <td>clown, mortgage, king, malcolm, 10k, circus, s...</td>\n",
       "    </tr>\n",
       "    <tr>\n",
       "      <th>0</th>\n",
       "      <td>31</td>\n",
       "      <td>racist, black, fought, blacks, community, kill...</td>\n",
       "    </tr>\n",
       "  </tbody>\n",
       "</table>\n",
       "</div>"
      ],
      "text/plain": [
       "   cluster                                               text\n",
       "0        1     bot, bots, just, like, twitter, think, lol, ve\n",
       "0        2  trump, biden, president, america, news, people...\n",
       "0        3  obama, maga, president, did, years, just, demo...\n",
       "0        4  exactly, uhh, yeah, lol, really, fault, father...\n",
       "0        5  dems, democrats, news, trump, democrat, amp, w...\n",
       "0        6  trump, president, schiff, herring, breaking, a...\n",
       "0        7  president, best, jobs, lifetime, promises, ame...\n",
       "0        8  masks, vaccinated, covid, virus, numbers, wear...\n",
       "0        9  president, thank, trump, vote, elected, govt, ...\n",
       "0       10  follow, followers, twitter, following, comment...\n",
       "0       11  liar, hack, stinking, confused, betting, idiot...\n",
       "0       12  proud, american, president, country, work, cel...\n",
       "0       13  impeached, vindman, schiff, accusers, johnson,...\n",
       "0       14  twitter, account, app, paid, things, look, twe...\n",
       "0       15  biden, joe, disrespectful, troops, wants, call...\n",
       "0       16  congress, policy, pelosi, don, wh, hillary, me...\n",
       "0       17  vote, republican, party, deniers, anti, win, s...\n",
       "0       18  non, fun, free, political, media, country, tim...\n",
       "0       19  heard, better, hitlerycliton, ain, angelou, fa...\n",
       "0       20  workers, better, minorities, dems, businesses,...\n",
       "0       21  healthcare, care, health, costs, tax, unemploy...\n",
       "0       22  liberal, russian, troll, bots, heartache, walk...\n",
       "0       23  russian, trending, bots, block, like, twitter,...\n",
       "0       24  removenunes, twitter, retweet, tweet, understa...\n",
       "0       25  hillary, screw, fbi, wouldn, crimes, paid, bet...\n",
       "0       26  fakenews, fake, news, inclined, liartrump, lms...\n",
       "0       27  vote, abortions, wall, don, care, democrat, pa...\n",
       "0       28  stutter, problem, joe, biden, years, decline, ...\n",
       "0       29  free, kids, immigrant, want, parents, immigrat...\n",
       "0       30  clown, mortgage, king, malcolm, 10k, circus, s...\n",
       "0       31  racist, black, fought, blacks, community, kill..."
      ]
     },
     "execution_count": 22,
     "metadata": {},
     "output_type": "execute_result"
    }
   ],
   "source": [
    "create_representative_table(clusters,top_n_words)"
   ]
  },
  {
   "cell_type": "code",
   "execution_count": 23,
   "id": "45e7ac16-e40a-4a86-9b1c-05c06a11cf5a",
   "metadata": {
    "tags": []
   },
   "outputs": [],
   "source": [
    "all_c = []\n",
    "\n",
    "for c in clusters:\n",
    "    all_c.extend(c)"
   ]
  },
  {
   "cell_type": "markdown",
   "id": "cd44af8e-fb88-480d-9e77-cef6cc984b2e",
   "metadata": {},
   "source": [
    "combine different clusters on \"politics\" and \"covid\""
   ]
  },
  {
   "cell_type": "code",
   "execution_count": 24,
   "id": "28271a86-0426-4e09-97b8-ee2fa368e8d4",
   "metadata": {
    "tags": []
   },
   "outputs": [],
   "source": [
    "cluster_pol = [2,3,5,6,7,9,12,13,15,16,17,20,21,25,27,28]\n",
    "cluster_cov = [8]\n",
    "\n",
    "cluster_pol = [i-1 for i in cluster_pol]\n",
    "cluster_cov = [i-1 for i in cluster_cov]"
   ]
  },
  {
   "cell_type": "code",
   "execution_count": 25,
   "id": "ec5a75c4-b8b4-4952-af8e-951d8bb6bccb",
   "metadata": {
    "tags": []
   },
   "outputs": [],
   "source": [
    "pos_pol = []\n",
    "for i in cluster_pol:\n",
    "    pos_pol.extend(clusters[i])\n",
    "pos_pol.sort()\n",
    "\n",
    "pos_cov = []\n",
    "for i in cluster_cov:\n",
    "    pos_cov.extend(clusters[i])\n",
    "pos_cov.sort()"
   ]
  },
  {
   "cell_type": "code",
   "execution_count": 26,
   "id": "9ed07dd6-47e0-4ab1-b3ea-ea630ae9fa11",
   "metadata": {
    "tags": []
   },
   "outputs": [],
   "source": [
    "pol_ids = tweets.iloc[pos_pol]['t2_id']\n",
    "cov_ids = tweets.iloc[pos_cov]['t2_id']"
   ]
  },
  {
   "cell_type": "markdown",
   "id": "44b4c5dd-40a9-418a-b4ad-82bb1549f33a",
   "metadata": {},
   "source": [
    "add cluster info to dataframe"
   ]
  },
  {
   "cell_type": "code",
   "execution_count": 27,
   "id": "0af7dde3-d2b3-439d-9232-4e9185b1fa7f",
   "metadata": {
    "tags": []
   },
   "outputs": [],
   "source": [
    "pd_polarization['cluster'] = None\n",
    "pd_polarization.loc[pd_polarization['t2_id'].isin(pol_ids),'cluster'] = 'politics'\n",
    "pd_polarization.loc[pd_polarization['t2_id'].isin(cov_ids),'cluster'] = 'vaccination / covid'"
   ]
  },
  {
   "cell_type": "code",
   "execution_count": 28,
   "id": "c89d9722-baa2-4420-aae9-7c188225a32a",
   "metadata": {
    "tags": []
   },
   "outputs": [],
   "source": [
    "pd_polarization.to_pickle(os.path.join(new_path,'_data','_polarization','pd_polarization.pkl'))"
   ]
  },
  {
   "cell_type": "markdown",
   "id": "6a0a64b9-9574-4e6f-9d9e-5a6fc711cff4",
   "metadata": {},
   "source": [
    "plot clustered polarization scores"
   ]
  },
  {
   "cell_type": "code",
   "execution_count": 29,
   "id": "10a7c706-777b-4a83-95c1-24cd8860d4a3",
   "metadata": {
    "tags": []
   },
   "outputs": [],
   "source": [
    "pd_polarization = pd.read_pickle(os.path.join(new_path,'_data','_polarization','pd_polarization.pkl'))"
   ]
  },
  {
   "cell_type": "code",
   "execution_count": 30,
   "id": "27ceab5a-3680-47f2-b063-02bc7abb597c",
   "metadata": {
    "tags": []
   },
   "outputs": [],
   "source": [
    "def plot_polarization(pd_scores):\n",
    "    n_rr = len(pd_scores[(pd_scores['t1_author_polarization']>0)&(pd_scores['t2_author_polarization']>0)])\n",
    "    n_lr = len(pd_scores[(pd_scores['t1_author_polarization']<0)&(pd_scores['t2_author_polarization']>0)])\n",
    "    n_rl = len(pd_scores[(pd_scores['t1_author_polarization']>0)&(pd_scores['t2_author_polarization']<0)])\n",
    "    n_ll = len(pd_scores[(pd_scores['t1_author_polarization']<0)&(pd_scores['t2_author_polarization']<0)])\n",
    "\n",
    "    s_rr = np.round(n_rr/len(pd_scores),2)\n",
    "    s_lr = np.round(n_lr/len(pd_scores),2)\n",
    "    s_rl = np.round(n_rl/len(pd_scores),2)\n",
    "    s_ll = np.round(n_ll/len(pd_scores),2)\n",
    "    \n",
    "    print(f't1_author left, t2_author right: {n_lr} ({s_lr}%)')\n",
    "    print(f't1_author right, t2_author left: {n_rl} ({s_rl}%)')\n",
    "    print(f't1_author left, t2_author left: {n_ll} ({s_ll}%)')\n",
    "    print(f't1_author right, t2_author right: {n_rr} ({s_rr}%)')\n",
    "\n",
    "    n_pairs = len(pd_scores)\n",
    "    \n",
    "    categories = ['politics', 'vaccination / covid']\n",
    "    colors = ['blue','red']\n",
    "    \n",
    "    fig, ax = plt.subplots(figsize=(4,4))\n",
    "    plt.scatter(pd_scores[pd_scores['cluster'].isnull()]['t1_author_polarization'],pd_scores[pd_scores['cluster'].isnull()]['t2_author_polarization'],marker='+',s=2,c='grey',label='no category')\n",
    "    for i,cat in enumerate(categories):\n",
    "        plt.scatter(pd_scores[pd_scores['cluster']==cat]['t1_author_polarization'],pd_scores[pd_scores['cluster']==cat]['t2_author_polarization'],marker='+',s=19,c=colors[i],label=cat)\n",
    "  \n",
    "    plt.xlabel('$user_O$ polarization')\n",
    "    plt.ylabel('$user_A$ polarization')\n",
    "    plt.legend()\n",
    "    plt.axvline(x=0,c='black',ls='--',lw=1,alpha=0.2)\n",
    "    plt.axhline(y=0,c='black',ls='--',lw=1,alpha=0.2)\n",
    "    \n",
    "    plt.savefig(os.path.join(new_path,'_results','fig5_polarization_plot.pdf'))\n",
    "    \n",
    "    plt.show()"
   ]
  },
  {
   "cell_type": "code",
   "execution_count": 31,
   "id": "c7d3e63c-c319-4ab4-bc49-5c90fee4380a",
   "metadata": {
    "tags": []
   },
   "outputs": [
    {
     "name": "stdout",
     "output_type": "stream",
     "text": [
      "t1_author left, t2_author right: 213 (0.17%)\n",
      "t1_author right, t2_author left: 546 (0.42%)\n",
      "t1_author left, t2_author left: 474 (0.37%)\n",
      "t1_author right, t2_author right: 53 (0.04%)\n"
     ]
    },
    {
     "data": {
      "image/png": "[encoded data removed]",
      "text/plain": [
       "<Figure size 400x400 with 1 Axes>"
      ]
     },
     "metadata": {},
     "output_type": "display_data"
    }
   ],
   "source": [
    "pd_scores = pd_polarization.copy()\n",
    "plot_polarization(pd_scores)"
   ]
  }
 ],
 "metadata": {
  "kernelspec": {
   "display_name": "Python 3 (ipykernel)",
   "language": "python",
   "name": "python3"
  },
  "language_info": {
   "codemirror_mode": {
    "name": "ipython",
    "version": 3
   },
   "file_extension": ".py",
   "mimetype": "text/x-python",
   "name": "python",
   "nbconvert_exporter": "python",
   "pygments_lexer": "ipython3",
   "version": "3.11.7"
  }
 },
 "nbformat": 4,
 "nbformat_minor": 5
}
